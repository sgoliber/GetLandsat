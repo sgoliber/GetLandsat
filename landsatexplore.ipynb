{
 "cells": [
  {
   "cell_type": "code",
   "execution_count": 5,
   "id": "917408e8-166d-4a4a-b352-a3f90741aade",
   "metadata": {},
   "outputs": [],
   "source": [
    "import json\n",
    "from landsatxplore.api import API\n",
    "import getpass\n",
    "import pandas as pd\n",
    "import geopandas as gpd\n",
    "import ipywidgets as widgets\n",
    "from IPython.display import display\n",
    "import matplotlib.pyplot as plt\n",
    "from hublib.ui import FileUpload\n",
    "import ipywidgets as widgets\n",
    "from IPython.display import display\n"
   ]
  },
  {
   "cell_type": "code",
   "execution_count": 6,
   "id": "6f99e6f3",
   "metadata": {},
   "outputs": [],
   "source": [
    "import hublib.ui as ui\n",
    "from hublib.ui import HideCodeButton, RunAllButton"
   ]
  },
  {
   "cell_type": "code",
   "execution_count": 7,
   "id": "2b03240b",
   "metadata": {},
   "outputs": [
    {
     "data": {
      "application/vnd.jupyter.widget-view+json": {
       "model_id": "8e6db168bb12464695dbfedafc5647c2",
       "version_major": 2,
       "version_minor": 0
      },
      "text/plain": [
       "Button(description='Run All Cells', style=ButtonStyle())"
      ]
     },
     "metadata": {},
     "output_type": "display_data"
    }
   ],
   "source": [
    "RunAllButton()"
   ]
  },
  {
   "cell_type": "code",
   "execution_count": 8,
   "id": "7df709da",
   "metadata": {},
   "outputs": [
    {
     "data": {
      "application/vnd.jupyter.widget-view+json": {
       "model_id": "68310dee36eb4c8ab1719aa189213a4f",
       "version_major": 2,
       "version_minor": 0
      },
      "text/plain": [
       "Button(button_style='danger', description='Run Cells', icon='play-circle-o', style=ButtonStyle(), tooltip='Run…"
      ]
     },
     "metadata": {},
     "output_type": "display_data"
    }
   ],
   "source": [
    "RunAllButton(label=\"Run Cells\", icon='fa-play-circle-o', style='danger', tooltip='Run All Cells', hide=True)"
   ]
  },
  {
   "cell_type": "code",
   "execution_count": 9,
   "id": "bc534312",
   "metadata": {
    "scrolled": true
   },
   "outputs": [
    {
     "data": {
      "application/vnd.jupyter.widget-view+json": {
       "model_id": "5cab7cb318844ce784aa726b1b43277f",
       "version_major": 2,
       "version_minor": 0
      },
      "text/plain": [
       "Button(description='Hide Code Cells', style=ButtonStyle())"
      ]
     },
     "metadata": {},
     "output_type": "display_data"
    },
    {
     "data": {
      "application/javascript": [
       "$('div.input').hide()"
      ],
      "text/plain": [
       "<IPython.core.display.Javascript object>"
      ]
     },
     "metadata": {},
     "output_type": "display_data"
    }
   ],
   "source": [
    "HideCodeButton()"
   ]
  },
  {
   "cell_type": "code",
   "execution_count": 10,
   "id": "73ecf691",
   "metadata": {},
   "outputs": [],
   "source": [
    "# called when all files finish uploading\n",
    "def done_cb(w, name):\n",
    "    # Do something with the files here...\n",
    "    # We just print their names\n",
    "    print(\"%s uploaded\" % name)\n",
    "    \n",
    "    # reset clears and re-enables the widget for more uploads\n",
    "    # You may want to do this somewhere else, depending on your GUI\n",
    "    w.reset()"
   ]
  },
  {
   "cell_type": "code",
   "execution_count": 11,
   "id": "88e7aa95-0ccd-4893-b4dc-244770f7c09e",
   "metadata": {},
   "outputs": [
    {
     "name": "stdout",
     "output_type": "stream",
     "text": [
      "Enter your Earth Explorer username: maggiechen259\n",
      "Enter your Earth Explorer password: ········\n"
     ]
    }
   ],
   "source": [
    "# username_input = widgets.Text(description='Enter your Earth Explorer username: ')\n",
    "# password_input = widgets.Password(description='Enter your Earth Explorer password: ')\n",
    "username = input('Enter your Earth Explorer username: ')\n",
    "password = getpass.getpass('Enter your Earth Explorer password: ')\n",
    "bbox_file_input = widgets.FileUpload(description='Upload Bbox Shapefile')"
   ]
  },
  {
   "cell_type": "code",
   "execution_count": 12,
   "id": "f8baee67",
   "metadata": {},
   "outputs": [],
   "source": [
    "# # Process uploaded bbox shapefile\n",
    "# bbox_filename = input('Enter the name of the uploaded bounding box shapefile (with extension): ')\n",
    "# bbox_file_path = f'bbox/{bbox_filename}'"
   ]
  },
  {
   "cell_type": "code",
   "execution_count": 13,
   "id": "2d534fab",
   "metadata": {},
   "outputs": [
    {
     "data": {
      "application/vnd.jupyter.widget-view+json": {
       "model_id": "0ae4417b02244359a66df119e1eee38b",
       "version_major": 2,
       "version_minor": 0
      },
      "text/plain": [
       "VBox(children=(HBox(children=(HTML(value='<p data-toggle=\"popover\" title=\"This is a description that appears w…"
      ]
     },
     "metadata": {},
     "output_type": "display_data"
    }
   ],
   "source": [
    "# this will allow you to select a single file to be uploaded\n",
    "f = FileUpload(\"Upload Area of Interest\", \n",
    "               \"This is a description that appears when the mouse hovers over the name.\",\n",
    "               dir='tmpdir',\n",
    "               cb=done_cb,\n",
    "               maxsize='20M')\n",
    "f\n"
   ]
  },
  {
   "cell_type": "code",
   "execution_count": 14,
   "id": "a78af4c8",
   "metadata": {},
   "outputs": [],
   "source": [
    "# Create multiple checkboxes\n",
    "check1 = ui.Checkbox('Landsat 5', desc='Select Landsat 5', value=False)\n",
    "check2 = ui.Checkbox('Landsat 7', desc='Select Landsat 7', value=False)\n",
    "check3 = ui.Checkbox('Landsat 8', desc='Select Landsat 8', value=False)\n",
    "check4 = ui.Checkbox('Landsat 9', desc='Select Landsat 9', value=False)"
   ]
  },
  {
   "cell_type": "code",
   "execution_count": 15,
   "id": "be6ed36e",
   "metadata": {},
   "outputs": [
    {
     "data": {
      "application/vnd.jupyter.widget-view+json": {
       "model_id": "86e1a4fcf2464a50be029a7ac847b4c4",
       "version_major": 2,
       "version_minor": 0
      },
      "text/plain": [
       "VBox(children=(Checkbox(children=(HTML(value='<div data-toggle=\"popover\" title=\"Select Landsat 5\" data-contain…"
      ]
     },
     "metadata": {},
     "output_type": "display_data"
    }
   ],
   "source": [
    "checkboxes_horizontal = widgets.VBox([check1, check2, check3,check4])\n",
    "\n",
    "# Display the checkboxes in a horizontal layout\n",
    "display(checkboxes_horizontal)"
   ]
  },
  {
   "cell_type": "code",
   "execution_count": 16,
   "id": "fd09b4c1",
   "metadata": {},
   "outputs": [
    {
     "data": {
      "application/vnd.jupyter.widget-view+json": {
       "model_id": "f39f141864fd4d378cc866719c7714e5",
       "version_major": 2,
       "version_minor": 0
      },
      "text/plain": [
       "Number(children=(HTML(value='<div data-toggle=\"popover\" title=\"Cloud Cover\\nValues must be in units of percent…"
      ]
     },
     "metadata": {},
     "output_type": "display_data"
    }
   ],
   "source": [
    "e1 = ui.Number(\n",
    "        name='Cloud Cover',\n",
    "        description=\"Cloud Cover\",\n",
    "        units='%',\n",
    "        min=0,\n",
    "        max=500,\n",
    "        value=0\n",
    ")\n",
    "e1"
   ]
  },
  {
   "cell_type": "code",
   "execution_count": 17,
   "id": "165d75d6",
   "metadata": {},
   "outputs": [
    {
     "data": {
      "application/vnd.jupyter.widget-view+json": {
       "model_id": "8e68dae2ba3a4128bec73e2ea9068585",
       "version_major": 2,
       "version_minor": 0
      },
      "text/plain": [
       "Dropdown(children=(HTML(value='<div data-toggle=\"popover\" title=\"Choose the composite color\" data-container=\"b…"
      ]
     },
     "metadata": {},
     "output_type": "display_data"
    }
   ],
   "source": [
    "style = ui.Dropdown(\n",
    "            name='Composite Color',\n",
    "            description=\"Choose the composite color\",\n",
    "            value='True Color',\n",
    "            options={'True Color', 'False Color'},\n",
    "#             cb=plot\n",
    "        )\n",
    "style"
   ]
  },
  {
   "cell_type": "code",
   "execution_count": 18,
   "id": "c01d0644",
   "metadata": {},
   "outputs": [],
   "source": [
    "#upload area of interest\n",
    "\n",
    "bbox = gpd.read_file('bbox/test_bbox.shp')\n",
    "bounds = bbox.bounds.iloc[0].to_list()"
   ]
  },
  {
   "cell_type": "code",
   "execution_count": 19,
   "id": "4d26cd63-7190-420e-a93b-e91f5bc893b7",
   "metadata": {},
   "outputs": [
    {
     "name": "stdout",
     "output_type": "stream",
     "text": [
      "{'EE': 'EarthExplorer', 'GV': 'GloVis', 'HDDS': 'HDDS Explorer'}\n",
      "3 scenes found.\n",
      "2022-10-05\n",
      "2022-10-04\n",
      "2022-10-03\n"
     ]
    }
   ],
   "source": [
    "# Initialize a new API instance\n",
    "api = API(username, password)\n",
    "\n",
    "# Perform a request\n",
    "response = api.request(endpoint=\"dataset-catalogs\")\n",
    "print(response)\n",
    "\n",
    "# Search for Landsat TM scenes\n",
    "scenes = api.search(\n",
    "    dataset='landsat_ot_c2_l2',\n",
    "    bbox = bounds,\n",
    "    start_date='2022-10-01',\n",
    "    end_date='2022-12-31',\n",
    "    max_cloud_cover=5\n",
    ")\n",
    "print(f\"{len(scenes)} scenes found.\")\n",
    "\n",
    "# Process the result\n",
    "for scene in scenes:\n",
    "    print(scene['acquisition_date'].strftime('%Y-%m-%d'))\n",
    "    # Write scene footprints to disk\n",
    "    fname = f\"{scene['landsat_product_id']}.geojson\"\n",
    "    with open(fname, \"w\") as f:\n",
    "        json.dump(scene['spatial_coverage'].__geo_interface__, f)\n",
    "\n",
    "# log out\n",
    "api.logout()\n",
    "\n"
   ]
  },
  {
   "cell_type": "code",
   "execution_count": 20,
   "id": "accaccac-d836-4ffc-ad7e-9636233c350f",
   "metadata": {},
   "outputs": [
    {
     "data": {
      "text/html": [
       "<div>\n",
       "<style scoped>\n",
       "    .dataframe tbody tr th:only-of-type {\n",
       "        vertical-align: middle;\n",
       "    }\n",
       "\n",
       "    .dataframe tbody tr th {\n",
       "        vertical-align: top;\n",
       "    }\n",
       "\n",
       "    .dataframe thead th {\n",
       "        text-align: right;\n",
       "    }\n",
       "</style>\n",
       "<table border=\"1\" class=\"dataframe\">\n",
       "  <thead>\n",
       "    <tr style=\"text-align: right;\">\n",
       "      <th></th>\n",
       "      <th>display_id</th>\n",
       "      <th>wrs_path</th>\n",
       "      <th>wrs_row</th>\n",
       "      <th>satellite</th>\n",
       "      <th>cloud_cover</th>\n",
       "      <th>acquisition_date</th>\n",
       "    </tr>\n",
       "  </thead>\n",
       "  <tbody>\n",
       "    <tr>\n",
       "      <th>0</th>\n",
       "      <td>LC09_L2SP_009010_20221005_20230326_02_T1</td>\n",
       "      <td>9</td>\n",
       "      <td>10</td>\n",
       "      <td>9</td>\n",
       "      <td>4</td>\n",
       "      <td>2022-10-05</td>\n",
       "    </tr>\n",
       "    <tr>\n",
       "      <th>1</th>\n",
       "      <td>LC08_L2SP_010011_20221004_20221012_02_T1</td>\n",
       "      <td>10</td>\n",
       "      <td>11</td>\n",
       "      <td>8</td>\n",
       "      <td>3</td>\n",
       "      <td>2022-10-04</td>\n",
       "    </tr>\n",
       "    <tr>\n",
       "      <th>2</th>\n",
       "      <td>LC09_L2SP_011010_20221003_20230327_02_T1</td>\n",
       "      <td>11</td>\n",
       "      <td>10</td>\n",
       "      <td>9</td>\n",
       "      <td>1</td>\n",
       "      <td>2022-10-03</td>\n",
       "    </tr>\n",
       "  </tbody>\n",
       "</table>\n",
       "</div>"
      ],
      "text/plain": [
       "                                 display_id  wrs_path  wrs_row  satellite  \\\n",
       "0  LC09_L2SP_009010_20221005_20230326_02_T1         9       10          9   \n",
       "1  LC08_L2SP_010011_20221004_20221012_02_T1        10       11          8   \n",
       "2  LC09_L2SP_011010_20221003_20230327_02_T1        11       10          9   \n",
       "\n",
       "   cloud_cover acquisition_date  \n",
       "0            4       2022-10-05  \n",
       "1            3       2022-10-04  \n",
       "2            1       2022-10-03  "
      ]
     },
     "execution_count": 20,
     "metadata": {},
     "output_type": "execute_result"
    }
   ],
   "source": [
    "# Create a DataFrame from the scenes\n",
    "df_scenes = pd.DataFrame(scenes)\n",
    "df_scenes = df_scenes[['display_id','wrs_path', 'wrs_row','satellite','cloud_cover','acquisition_date']]\n",
    "df_scenes.sort_values('acquisition_date', ascending=False, inplace=True)\n",
    "df_scenes"
   ]
  },
  {
   "cell_type": "code",
   "execution_count": 21,
   "id": "666d17bf-217b-4a4e-b297-15c393186a82",
   "metadata": {},
   "outputs": [
    {
     "name": "stdout",
     "output_type": "stream",
     "text": [
      "You can manually download the scene from the following URL:\n",
      "https://earthexplorer.usgs.gov/order/process?dataset_name=LANDSAT_8_C1&scene_id=LC08_L2SP_010010_20221004_20221012_02_T1&node=INVSVC\n",
      "LC08_L2SP_010010_20221004_20221012_02_T1 successfully downloaded.\n"
     ]
    }
   ],
   "source": [
    "from landsatxplore.earthexplorer import EarthExplorer\n",
    "import os\n",
    "import time\n",
    "import requests\n",
    "\n",
    "\n",
    "# Initialize the API\n",
    "ee = EarthExplorer(username, password)\n",
    "\n",
    "# Select the first scene\n",
    "ID = 'LC08_L2SP_010010_20221004_20221012_02_T1'\n",
    "output_dir = './data'\n",
    "\n",
    "\n",
    "# Get the Earth Explorer website URL for the scene\n",
    "ee_scene_url = f'https://earthexplorer.usgs.gov/order/process?dataset_name=LANDSAT_8_C1&scene_id={ID}&node=INVSVC'\n",
    "\n",
    "# Open the scene URL in a web browser for manual download\n",
    "print(f'You can manually download the scene from the following URL:')\n",
    "print(ee_scene_url)\n",
    "\n",
    "# Define the local file path\n",
    "local_file_path = os.path.join(output_dir, f'{ID}.tar')\n",
    "\n",
    "# Download the scene using requests\n",
    "try:\n",
    "    response = requests.get(ee_scene_url)\n",
    "    if response.status_code == 200:\n",
    "        with open(local_file_path, 'wb') as f:\n",
    "            f.write(response.content)\n",
    "        print(f'{ID} successfully downloaded.')\n",
    "    else:\n",
    "        print(f'{ID} download failed. HTTP status code: {response.status_code}')\n",
    "except Exception as e:\n",
    "    print(f'{ID} download failed. Error: {str(e)}')\n",
    "\n",
    "ee.logout()\n"
   ]
  },
  {
   "cell_type": "code",
   "execution_count": 22,
   "id": "a552457a",
   "metadata": {},
   "outputs": [
    {
     "name": "stdout",
     "output_type": "stream",
     "text": [
      "Error: file could not be opened successfully\n"
     ]
    }
   ],
   "source": [
    "import tarfile\n",
    "\n",
    "ID = 'LC08_L2SP_010010_20221004_20221012_02_T1'\n",
    "file_path = './data/{}.tar'.format(ID)\n",
    "\n",
    "try:\n",
    "    tar = tarfile.open(file_path)\n",
    "    tar.extractall('./data/{}'.format(ID))\n",
    "    tar.close()\n",
    "    print('Extraction successful')\n",
    "except Exception as e:\n",
    "    print(f'Error: {e}')\n"
   ]
  },
  {
   "cell_type": "code",
   "execution_count": null,
   "id": "1e9412bb-4b9d-445f-b6b9-65eb7f521a57",
   "metadata": {},
   "outputs": [],
   "source": [
    "# import tarfile\n",
    "\n",
    "# # Extract files from tar archive\n",
    "# tar = tarfile.open('./data/{}.tar'.format(ID))\n",
    "# tar.extractall('./data/{}'.format(ID))\n",
    "# tar.close()"
   ]
  },
  {
   "cell_type": "code",
   "execution_count": null,
   "id": "e601361b",
   "metadata": {},
   "outputs": [],
   "source": []
  }
 ],
 "metadata": {
  "kernelspec": {
   "display_name": "Python 3 (ipykernel)",
   "language": "python",
   "name": "python3"
  },
  "language_info": {
   "codemirror_mode": {
    "name": "ipython",
    "version": 3
   },
   "file_extension": ".py",
   "mimetype": "text/x-python",
   "name": "python",
   "nbconvert_exporter": "python",
   "pygments_lexer": "ipython3",
   "version": "3.9.7"
  }
 },
 "nbformat": 4,
 "nbformat_minor": 5
}
