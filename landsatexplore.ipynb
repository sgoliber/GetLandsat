{
 "cells": [
  {
   "cell_type": "code",
   "execution_count": 1,
   "id": "917408e8-166d-4a4a-b352-a3f90741aade",
   "metadata": {},
   "outputs": [],
   "source": [
    "import json\n",
    "from landsatxplore.api import API\n",
    "import getpass\n",
    "import pandas as pd\n",
    "import geopandas as gpd"
   ]
  },
  {
   "cell_type": "code",
   "execution_count": 2,
   "id": "88e7aa95-0ccd-4893-b4dc-244770f7c09e",
   "metadata": {},
   "outputs": [
    {
     "name": "stdin",
     "output_type": "stream",
     "text": [
      "Enter your username sgoliber\n",
      "Enter your password ········\n"
     ]
    }
   ],
   "source": [
    "username = input('Enter your username')\n",
    "password = getpass.getpass('Enter your password')"
   ]
  },
  {
   "cell_type": "code",
   "execution_count": 3,
   "id": "e2dfe583-c5b1-461a-a99a-8f228787c91e",
   "metadata": {},
   "outputs": [],
   "source": [
    "bbox = gpd.read_file('bbox/test_bbox.shp')\n",
    "bounds = bbox.bounds.iloc[0].to_list()"
   ]
  },
  {
   "cell_type": "code",
   "execution_count": 13,
   "id": "4d26cd63-7190-420e-a93b-e91f5bc893b7",
   "metadata": {},
   "outputs": [
    {
     "name": "stdout",
     "output_type": "stream",
     "text": [
      "{'EE': 'EarthExplorer', 'GV': 'GloVis', 'HDDS': 'HDDS Explorer'}\n"
     ]
    }
   ],
   "source": [
    "# Initialize a new API instance\n",
    "api = API(username, password)\n",
    "\n",
    "# Perform a request\n",
    "response = api.request(endpoint=\"dataset-catalogs\")\n",
    "print(response)\n",
    "\n",
    "# Search for Landsat TM scenes\n",
    "scenes = api.search(\n",
    "    dataset='landsat_ot_c2_l2',\n",
    "    bbox = bounds,\n",
    "    start_date='2022-10-01',\n",
    "    end_date='2022-12-31',\n",
    "    max_cloud_cover=5\n",
    ")\n",
    "\n",
    "# log out\n",
    "api.logout()"
   ]
  },
  {
   "cell_type": "code",
   "execution_count": 14,
   "id": "accaccac-d836-4ffc-ad7e-9636233c350f",
   "metadata": {},
   "outputs": [
    {
     "data": {
      "text/html": [
       "<div>\n",
       "<style scoped>\n",
       "    .dataframe tbody tr th:only-of-type {\n",
       "        vertical-align: middle;\n",
       "    }\n",
       "\n",
       "    .dataframe tbody tr th {\n",
       "        vertical-align: top;\n",
       "    }\n",
       "\n",
       "    .dataframe thead th {\n",
       "        text-align: right;\n",
       "    }\n",
       "</style>\n",
       "<table border=\"1\" class=\"dataframe\">\n",
       "  <thead>\n",
       "    <tr style=\"text-align: right;\">\n",
       "      <th></th>\n",
       "      <th>display_id</th>\n",
       "      <th>wrs_path</th>\n",
       "      <th>wrs_row</th>\n",
       "      <th>satellite</th>\n",
       "      <th>cloud_cover</th>\n",
       "      <th>acquisition_date</th>\n",
       "    </tr>\n",
       "  </thead>\n",
       "  <tbody>\n",
       "    <tr>\n",
       "      <th>0</th>\n",
       "      <td>LC09_L2SP_009010_20221005_20230326_02_T1</td>\n",
       "      <td>9</td>\n",
       "      <td>10</td>\n",
       "      <td>9</td>\n",
       "      <td>4</td>\n",
       "      <td>2022-10-05</td>\n",
       "    </tr>\n",
       "    <tr>\n",
       "      <th>1</th>\n",
       "      <td>LC08_L2SP_010011_20221004_20221012_02_T1</td>\n",
       "      <td>10</td>\n",
       "      <td>11</td>\n",
       "      <td>8</td>\n",
       "      <td>3</td>\n",
       "      <td>2022-10-04</td>\n",
       "    </tr>\n",
       "    <tr>\n",
       "      <th>2</th>\n",
       "      <td>LC09_L2SP_011010_20221003_20230327_02_T1</td>\n",
       "      <td>11</td>\n",
       "      <td>10</td>\n",
       "      <td>9</td>\n",
       "      <td>1</td>\n",
       "      <td>2022-10-03</td>\n",
       "    </tr>\n",
       "  </tbody>\n",
       "</table>\n",
       "</div>"
      ],
      "text/plain": [
       "                                 display_id  wrs_path  wrs_row  satellite  \\\n",
       "0  LC09_L2SP_009010_20221005_20230326_02_T1         9       10          9   \n",
       "1  LC08_L2SP_010011_20221004_20221012_02_T1        10       11          8   \n",
       "2  LC09_L2SP_011010_20221003_20230327_02_T1        11       10          9   \n",
       "\n",
       "   cloud_cover acquisition_date  \n",
       "0            4       2022-10-05  \n",
       "1            3       2022-10-04  \n",
       "2            1       2022-10-03  "
      ]
     },
     "execution_count": 14,
     "metadata": {},
     "output_type": "execute_result"
    }
   ],
   "source": [
    "# Create a DataFrame from the scenes\n",
    "df_scenes = pd.DataFrame(scenes)\n",
    "df_scenes = df_scenes[['display_id','wrs_path', 'wrs_row','satellite','cloud_cover','acquisition_date']]\n",
    "df_scenes.sort_values('acquisition_date', ascending=False, inplace=True)\n",
    "df_scenes"
   ]
  },
  {
   "cell_type": "code",
   "execution_count": 9,
   "id": "666d17bf-217b-4a4e-b297-15c393186a82",
   "metadata": {},
   "outputs": [
    {
     "name": "stdout",
     "output_type": "stream",
     "text": [
      "Download failed with dataset id 1 of 3. Re-trying with the next one.\n"
     ]
    },
    {
     "name": "stderr",
     "output_type": "stream",
     "text": [
      "100%|████████████████████████████████████████| 776M/776M [02:39<00:00, 5.09MB/s]\n"
     ]
    },
    {
     "name": "stdout",
     "output_type": "stream",
     "text": [
      "None of the archived ids succeeded! Update necessary!\n",
      "LC08_L2SP_010010_20221004_20221012_02_T1 error but file exists\n"
     ]
    }
   ],
   "source": [
    "from landsatxplore.earthexplorer import EarthExplorer\n",
    "import os\n",
    "\n",
    "# Initialize the API\n",
    "ee = EarthExplorer(username, password)\n",
    "\n",
    "# Select the first scene\n",
    "ID = 'LC08_L2SP_010010_20221004_20221012_02_T1'\n",
    "\n",
    "# Download the scene \n",
    "try: \n",
    "    ee.download(ID, output_dir='./data')\n",
    "    print('{} succesful'.format(ID))\n",
    "    \n",
    "# Additional error handling\n",
    "except:\n",
    "    if os.path.isfile('./data/{}.tar'.format(ID)):\n",
    "        print('{} error but file exists'.format(ID))\n",
    "    else:\n",
    "        print('{} error'.format(ID))\n",
    "\n",
    "ee.logout()"
   ]
  },
  {
   "cell_type": "code",
   "execution_count": 10,
   "id": "1e9412bb-4b9d-445f-b6b9-65eb7f521a57",
   "metadata": {},
   "outputs": [],
   "source": [
    "import tarfile\n",
    "\n",
    "# Extract files from tar archive\n",
    "tar = tarfile.open('./data/{}.tar'.format(ID))\n",
    "tar.extractall('./data/{}'.format(ID))\n",
    "tar.close()"
   ]
  },
  {
   "cell_type": "code",
   "execution_count": null,
   "id": "615276d0-b4fb-40bd-9d20-bcdaf816b47d",
   "metadata": {},
   "outputs": [],
   "source": []
  }
 ],
 "metadata": {
  "kernelspec": {
   "display_name": "Python 3 (ipykernel)",
   "language": "python",
   "name": "python3"
  },
  "language_info": {
   "codemirror_mode": {
    "name": "ipython",
    "version": 3
   },
   "file_extension": ".py",
   "mimetype": "text/x-python",
   "name": "python",
   "nbconvert_exporter": "python",
   "pygments_lexer": "ipython3",
   "version": "3.9.13"
  }
 },
 "nbformat": 4,
 "nbformat_minor": 5
}
