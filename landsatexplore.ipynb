{
 "cells": [
  {
   "cell_type": "code",
   "execution_count": 164,
   "id": "917408e8-166d-4a4a-b352-a3f90741aade",
   "metadata": {},
   "outputs": [],
   "source": [
    "import json\n",
    "from landsatxplore.api import API\n",
    "import getpass\n",
    "import pandas as pd\n",
    "import geopandas as gpd\n",
    "import ipywidgets as widgets\n",
    "from IPython.display import display\n",
    "import matplotlib.pyplot as plt\n",
    "from hublib.ui import FileUpload\n",
    "import ipywidgets as widgets\n",
    "from IPython.display import display\n",
    "from ipywidgets import FileUpload, Checkbox, FloatSlider, Dropdown, Button, Output, VBox, DatePicker\n",
    "import urllib.request\n",
    "from io import BytesIO\n",
    "from zipfile import ZipFile\n",
    "from datetime import datetime\n",
    "import os\n",
    "from IPython.display import display, HTML"
   ]
  },
  {
   "cell_type": "code",
   "execution_count": 165,
   "id": "6f99e6f3",
   "metadata": {},
   "outputs": [],
   "source": [
    "import hublib.ui as ui\n",
    "from hublib.ui import HideCodeButton, RunAllButton"
   ]
  },
  {
   "cell_type": "code",
   "execution_count": 166,
   "id": "2b03240b",
   "metadata": {},
   "outputs": [
    {
     "data": {
      "application/vnd.jupyter.widget-view+json": {
       "model_id": "e853cd7651384be884914a96c3bcc7e8",
       "version_major": 2,
       "version_minor": 0
      },
      "text/plain": [
       "Button(description='Run All Cells', style=ButtonStyle())"
      ]
     },
     "metadata": {},
     "output_type": "display_data"
    }
   ],
   "source": [
    "RunAllButton()"
   ]
  },
  {
   "cell_type": "code",
   "execution_count": 167,
   "id": "7df709da",
   "metadata": {},
   "outputs": [
    {
     "data": {
      "application/vnd.jupyter.widget-view+json": {
       "model_id": "cf3c432b87b34b40a117a2cabfded7db",
       "version_major": 2,
       "version_minor": 0
      },
      "text/plain": [
       "Button(button_style='danger', description='Run Cells', icon='play-circle-o', style=ButtonStyle(), tooltip='Run…"
      ]
     },
     "metadata": {},
     "output_type": "display_data"
    }
   ],
   "source": [
    "RunAllButton(label=\"Run Cells\", icon='fa-play-circle-o', style='danger', tooltip='Run All Cells', hide=True)"
   ]
  },
  {
   "cell_type": "code",
   "execution_count": 168,
   "id": "bc534312",
   "metadata": {
    "scrolled": true
   },
   "outputs": [
    {
     "data": {
      "application/vnd.jupyter.widget-view+json": {
       "model_id": "585d72deac9143d1922bc63e62429662",
       "version_major": 2,
       "version_minor": 0
      },
      "text/plain": [
       "Button(description='Hide Code Cells', style=ButtonStyle())"
      ]
     },
     "metadata": {},
     "output_type": "display_data"
    }
   ],
   "source": [
    "HideCodeButton()"
   ]
  },
  {
   "cell_type": "code",
   "execution_count": 169,
   "id": "73ecf691",
   "metadata": {},
   "outputs": [],
   "source": [
    "# called when all files finish uploading\n",
    "def done_cb(w, name):\n",
    "    # Do something with the files here...\n",
    "    # We just print their names\n",
    "    print(\"%s uploaded\" % name)\n",
    "    \n",
    "    # reset clears and re-enables the widget for more uploads\n",
    "    # You may want to do this somewhere else, depending on your GUI\n",
    "    w.reset()"
   ]
  },
  {
   "cell_type": "code",
   "execution_count": 170,
   "id": "88e7aa95-0ccd-4893-b4dc-244770f7c09e",
   "metadata": {},
   "outputs": [
    {
     "name": "stdout",
     "output_type": "stream",
     "text": [
      "Enter your Earth Explorer username: maggiechen259\n",
      "Enter your Earth Explorer password: ········\n"
     ]
    }
   ],
   "source": [
    "# username_input = widgets.Text(description='Enter your Earth Explorer username: ')\n",
    "# password_input = widgets.Password(description='Enter your Earth Explorer password: ')\n",
    "username = input('Enter your Earth Explorer username: ')\n",
    "password = getpass.getpass('Enter your Earth Explorer password: ')\n",
    "# bbox_file_input = widgets.FileUpload(description='Upload Bbox Shapefile')"
   ]
  },
  {
   "cell_type": "code",
   "execution_count": 171,
   "id": "f8baee67",
   "metadata": {},
   "outputs": [
    {
     "name": "stdout",
     "output_type": "stream",
     "text": [
      "Enter the name of the uploaded bounding box shapefile (with extension): test_bbox\n"
     ]
    }
   ],
   "source": [
    "# Process uploaded bbox shapefile\n",
    "bbox_filename = input('Enter the name of the uploaded bounding box shapefile (with extension): ')\n",
    "bbox_file_path = f'bbox/{bbox_filename}.shp'"
   ]
  },
  {
   "cell_type": "code",
   "execution_count": 172,
   "id": "2d534fab",
   "metadata": {},
   "outputs": [
    {
     "data": {
      "application/vnd.jupyter.widget-view+json": {
       "model_id": "b097f3dc5411403f8b64d1f9e4fa4a5e",
       "version_major": 2,
       "version_minor": 0
      },
      "text/plain": [
       "FileUpload(value={}, accept='.shp', description='Upload Shapefile')"
      ]
     },
     "metadata": {},
     "output_type": "display_data"
    }
   ],
   "source": [
    "# # this will allow you to select a single file to be uploaded\n",
    "# f = FileUpload(\"Upload Area of Interest\", \n",
    "#                \"This is a description that appears when the mouse hovers over the name.\",\n",
    "#                dir='tmpdir',\n",
    "#                cb=done_cb,\n",
    "#                maxsize='20M')\n",
    "# f\n",
    "# File upload widget\n",
    "\n",
    "file_upload = FileUpload(\n",
    "    description=\"Upload Shapefile\",\n",
    "    accept=\".shp\",\n",
    "    multiple=False\n",
    ")\n",
    "file_upload"
   ]
  },
  {
   "cell_type": "code",
   "execution_count": 173,
   "id": "8c369101",
   "metadata": {},
   "outputs": [],
   "source": [
    "# output_dir = './box'\n",
    "# local_file_path = os.path.join(output_dir, f'{ID}.shp')\n"
   ]
  },
  {
   "cell_type": "code",
   "execution_count": 174,
   "id": "b514caa2",
   "metadata": {},
   "outputs": [],
   "source": [
    "def handle_file_upload(change):\n",
    "    with output:\n",
    "        # Clear previous output\n",
    "        output.clear_output()\n",
    "\n",
    "        # Check if any files are uploaded\n",
    "        if file_upload.value:\n",
    "            # Get the first uploaded file content\n",
    "            uploaded_file_content = next(iter(file_upload.value.values()))['content']\n",
    "\n",
    "            # Create a file-like object from the uploaded content\n",
    "            file_like_object = BytesIO(uploaded_file_content)\n",
    "\n",
    "            # Extract the zip file if it's a shapefile archive\n",
    "            with ZipFile(file_like_object, 'r') as zip_ref:\n",
    "                # Assuming the shapefile is in the root of the zip file\n",
    "                shapefile_name = [name for name in zip_ref.namelist() if name.endswith('.shp')][0]\n",
    "\n",
    "                # Read the shapefile using geopandas\n",
    "                bbox = gpd.read_file(BytesIO(zip_ref.read(shapefile_name)))\n",
    "\n",
    "            # Extract the bounds from the shapefile\n",
    "            bounds = bbox.bounds.iloc[0].to_list()\n",
    "\n",
    "            print(\"File uploaded successfully.\")\n",
    "            print(\"Bounds:\", bounds)"
   ]
  },
  {
   "cell_type": "code",
   "execution_count": 175,
   "id": "f63b7e43",
   "metadata": {},
   "outputs": [],
   "source": [
    "# # Attach the handle_file_upload function to the upload button's on_click event\n",
    "# upload_button.on_click(handle_file_upload)"
   ]
  },
  {
   "cell_type": "code",
   "execution_count": 176,
   "id": "570fef08",
   "metadata": {},
   "outputs": [
    {
     "data": {
      "text/html": [
       "<p style='color:red'>Please choose within two weeks</p>"
      ],
      "text/plain": [
       "<IPython.core.display.HTML object>"
      ]
     },
     "metadata": {},
     "output_type": "display_data"
    }
   ],
   "source": [
    "message = \"Please choose within two weeks\"\n",
    "display(HTML(f\"<p style='color:red'>{message}</p>\"))"
   ]
  },
  {
   "cell_type": "code",
   "execution_count": 177,
   "id": "3669cfde",
   "metadata": {},
   "outputs": [
    {
     "data": {
      "application/vnd.jupyter.widget-view+json": {
       "model_id": "bd56c21da57c4037808bce6e9386810a",
       "version_major": 2,
       "version_minor": 0
      },
      "text/plain": [
       "DatePicker(value=None, description='Start Date', layout=Layout(width='300px'))"
      ]
     },
     "metadata": {},
     "output_type": "display_data"
    }
   ],
   "source": [
    "start_date = DatePicker(\n",
    "    description='Start Date',\n",
    "    disabled = False,\n",
    "    layout={'width': '300px'}\n",
    ")\n",
    "start_date"
   ]
  },
  {
   "cell_type": "code",
   "execution_count": 178,
   "id": "16a025f9",
   "metadata": {},
   "outputs": [
    {
     "data": {
      "application/vnd.jupyter.widget-view+json": {
       "model_id": "7e0ebbb2920a4f53b2d24e1313529bce",
       "version_major": 2,
       "version_minor": 0
      },
      "text/plain": [
       "DatePicker(value=None, description='End Date', layout=Layout(width='300px'))"
      ]
     },
     "metadata": {},
     "output_type": "display_data"
    }
   ],
   "source": [
    "end_date = DatePicker(\n",
    "    description='End Date',\n",
    "    disabled = False,\n",
    "    layout={'width': '300px'}\n",
    ")\n",
    "end_date"
   ]
  },
  {
   "cell_type": "code",
   "execution_count": 179,
   "id": "a78af4c8",
   "metadata": {},
   "outputs": [],
   "source": [
    "# Create multiple checkboxes\n",
    "check1 = ui.Checkbox('Landsat 5', desc='Landsat 5', value=False)\n",
    "check2 = ui.Checkbox('Landsat 7', desc='Landsat 7', value=False)\n",
    "check3 = ui.Checkbox('Landsat 8', desc='Landsat 8', value=False)\n",
    "check4 = ui.Checkbox('Landsat 9', desc='Landsat 9', value=False)"
   ]
  },
  {
   "cell_type": "code",
   "execution_count": 180,
   "id": "be6ed36e",
   "metadata": {},
   "outputs": [
    {
     "data": {
      "application/vnd.jupyter.widget-view+json": {
       "model_id": "5023281a958645d3829360db58d3add8",
       "version_major": 2,
       "version_minor": 0
      },
      "text/plain": [
       "VBox(children=(Checkbox(children=(HTML(value='<div data-toggle=\"popover\" title=\"Landsat 5\" data-container=\"bod…"
      ]
     },
     "metadata": {},
     "output_type": "display_data"
    }
   ],
   "source": [
    "landsat = widgets.VBox([check1, check2, check3,check4])\n",
    "\n",
    "# Display the checkboxes in a horizontal layout\n",
    "display(landsat)"
   ]
  },
  {
   "cell_type": "code",
   "execution_count": 181,
   "id": "fd09b4c1",
   "metadata": {},
   "outputs": [
    {
     "data": {
      "application/vnd.jupyter.widget-view+json": {
       "model_id": "206008db2aac43d08d24bbfdcf1622c5",
       "version_major": 2,
       "version_minor": 0
      },
      "text/plain": [
       "Number(children=(HTML(value='<div data-toggle=\"popover\" title=\"Cloud Cover\\nValues must be in units of percent…"
      ]
     },
     "metadata": {},
     "output_type": "display_data"
    }
   ],
   "source": [
    "# Cloud cover\n",
    "cloud_cover = ui.Number(\n",
    "        name='Max Cloud Cover',\n",
    "        description=\"Cloud Cover\",\n",
    "        units='%',\n",
    "        min=0,\n",
    "        max=500,\n",
    "        value=0\n",
    ")\n",
    "\n",
    "# cloud_cover = ui.Number(name='Cloud Cover',value=0, min=0, max=100, step=1, description='Cloud Cover (%)')\n",
    "# cloud_cover = FloatSlider(value=0, min=0, max=100, step=1, description='Cloud Cover (%)')\n",
    "cloud_cover"
   ]
  },
  {
   "cell_type": "code",
   "execution_count": 182,
   "id": "165d75d6",
   "metadata": {},
   "outputs": [
    {
     "data": {
      "application/vnd.jupyter.widget-view+json": {
       "model_id": "3e2946fc418d4528a643802988b0f9dd",
       "version_major": 2,
       "version_minor": 0
      },
      "text/plain": [
       "Dropdown(children=(HTML(value='<div data-toggle=\"popover\" title=\"Choose the composite color\" data-container=\"b…"
      ]
     },
     "metadata": {},
     "output_type": "display_data"
    }
   ],
   "source": [
    "# composite color widgets\n",
    "composite_color = ui.Dropdown(\n",
    "            name='Composite Color',\n",
    "            description=\"Choose the composite color\",\n",
    "            value='True Color',\n",
    "            options={'True Color', 'False Color'},\n",
    "#             cb=plot\n",
    "        )\n",
    "composite_color\n",
    "\n",
    "# composite_color = Dropdown(options=['True Color', 'False Color'], value='True Color', description='Composite Color')"
   ]
  },
  {
   "cell_type": "code",
   "execution_count": 183,
   "id": "b418ff00",
   "metadata": {},
   "outputs": [],
   "source": [
    "# Output widget to display the result\n",
    "result_output = Output()"
   ]
  },
  {
   "cell_type": "code",
   "execution_count": 184,
   "id": "2e7635e4",
   "metadata": {},
   "outputs": [],
   "source": [
    "# Button to trigger the search and display results\n",
    "search_button = Button(description='Display')"
   ]
  },
  {
   "cell_type": "code",
   "execution_count": null,
   "id": "413811eb",
   "metadata": {},
   "outputs": [],
   "source": []
  },
  {
   "cell_type": "code",
   "execution_count": 185,
   "id": "d15ac640",
   "metadata": {},
   "outputs": [],
   "source": [
    "# Function to handle button click event\n",
    "def on_search_button_click(b):\n",
    "    # Retrieve the file path from the FileUpload widget\n",
    "    uploaded_files = file_upload.value\n",
    "    if uploaded_files:\n",
    "        shapefile_path = list(uploaded_files.keys())[0]\n",
    "        \n",
    "        # Read the uploaded shapefile\n",
    "        bbox = gpd.read_file(shapefile_path)\n",
    "        bounds = bbox.bounds.iloc[0].to_list()\n",
    "        \n",
    "        # Retrieve other widget values\n",
    "        landsat_options = [check1.value, check2.value, check3.value, check4.value]\n",
    "        cloud_cover_value = cloud_cover.value\n",
    "        composite_color_value = composite_color.value\n",
    "        \n",
    "        # Perform further processing based on the retrieved values\n",
    "        with result_output:\n",
    "            print(f\"Shapefile Path: {shapefile_path}\")\n",
    "            print(f\"Landsat Options: {landsat_options}\")\n",
    "            print(f\"Cloud Cover: {cloud_cover_value}%\")\n",
    "            print(f\"Composite Color: {composite_color_value}\")"
   ]
  },
  {
   "cell_type": "code",
   "execution_count": 186,
   "id": "9f5cc2fd",
   "metadata": {},
   "outputs": [],
   "source": [
    "# Attach the function to the button click event\n",
    "display_button.on_click(on_search_button_click)"
   ]
  },
  {
   "cell_type": "code",
   "execution_count": 187,
   "id": "c01d0644",
   "metadata": {},
   "outputs": [],
   "source": [
    "#upload area of interest\n",
    "\n",
    "# bbox = gpd.read_file(file_upload.value[0])\n",
    "bbox = gpd.read_file(bbox_file_path)\n",
    "\n",
    "bounds = bbox.bounds.iloc[0].to_list()"
   ]
  },
  {
   "cell_type": "code",
   "execution_count": 188,
   "id": "be896b08",
   "metadata": {},
   "outputs": [
    {
     "data": {
      "application/vnd.jupyter.widget-view+json": {
       "model_id": "ed96b68331e641088633973d767c9faa",
       "version_major": 2,
       "version_minor": 0
      },
      "text/plain": [
       "VBox(children=(FileUpload(value={}, accept='.shp', description='Upload Shapefile'), DatePicker(value=None, des…"
      ]
     },
     "metadata": {},
     "output_type": "display_data"
    }
   ],
   "source": [
    "# Display the widgets\n",
    "VBox([file_upload,\n",
    "#       upload_button, \n",
    "#       output,\n",
    "      start_date,\n",
    "      end_date,\n",
    "      VBox([check1, check2, check3, check4]),\n",
    "      cloud_cover, \n",
    "      composite_color, \n",
    "      search_button,\n",
    "      result_output])\n"
   ]
  },
  {
   "cell_type": "code",
   "execution_count": 191,
   "id": "ff13fb97",
   "metadata": {},
   "outputs": [],
   "source": [
    "def display_table():\n",
    "    df_scenes = pd.DataFrame(scenes)\n",
    "    df_scenes = df_scenes[['display_id','wrs_path', 'wrs_row','satellite','cloud_cover','acquisition_date']]\n",
    "    df_scenes.sort_values('acquisition_date', ascending=False, inplace=True)\n",
    "    df_scenes['acquisition_date'] = pd.to_datetime(df_scenes['acquisition_date'])\n",
    "    display(df_scenes)"
   ]
  },
  {
   "cell_type": "code",
   "execution_count": 192,
   "id": "4d26cd63-7190-420e-a93b-e91f5bc893b7",
   "metadata": {},
   "outputs": [
    {
     "name": "stdout",
     "output_type": "stream",
     "text": [
      "8\n",
      "landsat_ot_c2_l1\n",
      "{'EE': 'EarthExplorer', 'GV': 'GloVis', 'HDDS': 'HDDS Explorer'}\n",
      "2020-08-20\n",
      "2020-09-20\n",
      "7 scenes found.\n",
      "2020-09-12\n",
      "2020-09-12\n",
      "2020-09-03\n",
      "2020-08-27\n",
      "2020-08-25\n",
      "2020-08-20\n",
      "2020-08-20\n"
     ]
    }
   ],
   "source": [
    "#Landsat 5 TM Collection 2 Level 1\tlandsat_tm_c2_l1\n",
    "# Landsat 5 TM Collection 2 Level 2\tlandsat_tm_c2_l2\n",
    "# Landsat 7 ETM+ Collection 2 Level 1\tlandsat_etm_c2_l1\n",
    "# Landsat 7 ETM+ Collection 2 Level 2\tlandsat_etm_c2_l2\n",
    "# Landsat 8 Collection 2 Level 1\tlandsat_ot_c2_l1\n",
    "# Landsat 8 Collection 2 Level 2\tlandsat_ot_c2_l2\n",
    "# Landsat 9 Collection 2 Level 1\tlandsat_ot_c2_l1\n",
    "# Landsat 9 Collection 2 Level 2\tlandsat_ot_c2_l2\n",
    "\n",
    "# dic = {5:['landsat_tm_c2_l1','landsat_tm_c2_l2'],\n",
    "#        7:['landsat_etm_c2_l1','landsat_etm_c2_l2'],\n",
    "#        8:['landsat_ot_c2_l1','landsat_ot_c2_l2'],\n",
    "#        9:['landsat_ot_c2_l1','landsat_ot_c2_l2']}\n",
    "\n",
    "dic = {5:'landsat_tm_c2_l1',\n",
    "       7:'landsat_etm_c2_l1',\n",
    "       8:'landsat_ot_c2_l1',\n",
    "       9:'landsat_ot_c2_l1'}\n",
    "landsats = [5,7,8,9]\n",
    "\n",
    "\n",
    "# #Initialize a new API instance\n",
    "\n",
    "# Get the values of checkboxes within the VBox\n",
    "checkbox_values = [child.value for child in landsat.children]\n",
    "\n",
    "# print(checkbox_values)\n",
    "for index, value in enumerate(checkbox_values):\n",
    "    if value == True:\n",
    "        landsat_id = landsats[index]\n",
    "print(landsat_id)\n",
    "print(dic[landsat_id])\n",
    "\n",
    "# if landsat.value in dic:\n",
    "#     landsat_dataset_id = dic[landsat.value]\n",
    "    \n",
    "api = API(username, password)\n",
    "\n",
    "# Perform a request\n",
    "response = api.request(endpoint=\"dataset-catalogs\")\n",
    "print(response)\n",
    "\n",
    "# Search for Landsat TM scenes\n",
    "print(start_date.value)\n",
    "print(end_date.value)\n",
    "scenes = api.search(\n",
    "#     dataset='landsat_ot_c2_l1',\n",
    "    dataset = str(dic[landsat_id]),\n",
    "#     dataset=str(checkbox_values[0]),\n",
    "    bbox = bounds,\n",
    "    start_date = str(start_date.value),\n",
    "    end_date = str(end_date.value),\n",
    "    max_cloud_cover= str(cloud_cover.value),\n",
    "#     composite_color = composite_color.value,\n",
    "#     landsat = [checkbox.value for checkbox in landsat.children]\n",
    ")\n",
    "print(f\"{len(scenes)} scenes found.\")\n",
    "\n",
    "# Process the result\n",
    "for scene in scenes:\n",
    "    print(scene['acquisition_date'].strftime('%Y-%m-%d'))\n",
    "    # Write scene footprints to disk\n",
    "    fname = f\"{scene['landsat_product_id']}.geojson\"\n",
    "    with open(fname, \"w\") as f:\n",
    "        json.dump(scene['spatial_coverage'].__geo_interface__, f)\n",
    "\n",
    "# log out\n",
    "api.logout()\n",
    "\n"
   ]
  },
  {
   "cell_type": "code",
   "execution_count": 193,
   "id": "accaccac-d836-4ffc-ad7e-9636233c350f",
   "metadata": {},
   "outputs": [
    {
     "name": "stdout",
     "output_type": "stream",
     "text": [
      "['2020-09-12', '2020-09-12', '2020-09-03', '2020-08-27', '2020-08-25', '2020-08-20', '2020-08-20']\n"
     ]
    },
    {
     "data": {
      "text/html": [
       "<div>\n",
       "<style scoped>\n",
       "    .dataframe tbody tr th:only-of-type {\n",
       "        vertical-align: middle;\n",
       "    }\n",
       "\n",
       "    .dataframe tbody tr th {\n",
       "        vertical-align: top;\n",
       "    }\n",
       "\n",
       "    .dataframe thead th {\n",
       "        text-align: right;\n",
       "    }\n",
       "</style>\n",
       "<table border=\"1\" class=\"dataframe\">\n",
       "  <thead>\n",
       "    <tr style=\"text-align: right;\">\n",
       "      <th></th>\n",
       "      <th>display_id</th>\n",
       "      <th>wrs_path</th>\n",
       "      <th>wrs_row</th>\n",
       "      <th>satellite</th>\n",
       "      <th>cloud_cover</th>\n",
       "      <th>acquisition_date</th>\n",
       "    </tr>\n",
       "  </thead>\n",
       "  <tbody>\n",
       "    <tr>\n",
       "      <th>0</th>\n",
       "      <td>LC08_L1TP_010010_20200912_20200919_02_T1</td>\n",
       "      <td>10</td>\n",
       "      <td>10</td>\n",
       "      <td>8</td>\n",
       "      <td>32</td>\n",
       "      <td>2020-09-12</td>\n",
       "    </tr>\n",
       "    <tr>\n",
       "      <th>1</th>\n",
       "      <td>LC08_L1TP_010011_20200912_20200919_02_T1</td>\n",
       "      <td>10</td>\n",
       "      <td>11</td>\n",
       "      <td>8</td>\n",
       "      <td>41</td>\n",
       "      <td>2020-09-12</td>\n",
       "    </tr>\n",
       "    <tr>\n",
       "      <th>2</th>\n",
       "      <td>LC08_L1TP_011010_20200903_20200918_02_T1</td>\n",
       "      <td>11</td>\n",
       "      <td>10</td>\n",
       "      <td>8</td>\n",
       "      <td>39</td>\n",
       "      <td>2020-09-03</td>\n",
       "    </tr>\n",
       "    <tr>\n",
       "      <th>3</th>\n",
       "      <td>LC08_L1TP_010010_20200827_20200906_02_T1</td>\n",
       "      <td>10</td>\n",
       "      <td>10</td>\n",
       "      <td>8</td>\n",
       "      <td>3</td>\n",
       "      <td>2020-08-27</td>\n",
       "    </tr>\n",
       "    <tr>\n",
       "      <th>4</th>\n",
       "      <td>LC08_L1TP_012010_20200825_20200905_02_T1</td>\n",
       "      <td>12</td>\n",
       "      <td>10</td>\n",
       "      <td>8</td>\n",
       "      <td>36</td>\n",
       "      <td>2020-08-25</td>\n",
       "    </tr>\n",
       "    <tr>\n",
       "      <th>5</th>\n",
       "      <td>LC08_L1TP_009010_20200820_20200905_02_T1</td>\n",
       "      <td>9</td>\n",
       "      <td>10</td>\n",
       "      <td>8</td>\n",
       "      <td>0</td>\n",
       "      <td>2020-08-20</td>\n",
       "    </tr>\n",
       "    <tr>\n",
       "      <th>6</th>\n",
       "      <td>LC08_L1TP_009011_20200820_20200905_02_T1</td>\n",
       "      <td>9</td>\n",
       "      <td>11</td>\n",
       "      <td>8</td>\n",
       "      <td>0</td>\n",
       "      <td>2020-08-20</td>\n",
       "    </tr>\n",
       "  </tbody>\n",
       "</table>\n",
       "</div>"
      ],
      "text/plain": [
       "                                 display_id  wrs_path  wrs_row  satellite  \\\n",
       "0  LC08_L1TP_010010_20200912_20200919_02_T1        10       10          8   \n",
       "1  LC08_L1TP_010011_20200912_20200919_02_T1        10       11          8   \n",
       "2  LC08_L1TP_011010_20200903_20200918_02_T1        11       10          8   \n",
       "3  LC08_L1TP_010010_20200827_20200906_02_T1        10       10          8   \n",
       "4  LC08_L1TP_012010_20200825_20200905_02_T1        12       10          8   \n",
       "5  LC08_L1TP_009010_20200820_20200905_02_T1         9       10          8   \n",
       "6  LC08_L1TP_009011_20200820_20200905_02_T1         9       11          8   \n",
       "\n",
       "   cloud_cover acquisition_date  \n",
       "0           32       2020-09-12  \n",
       "1           41       2020-09-12  \n",
       "2           39       2020-09-03  \n",
       "3            3       2020-08-27  \n",
       "4           36       2020-08-25  \n",
       "5            0       2020-08-20  \n",
       "6            0       2020-08-20  "
      ]
     },
     "execution_count": 193,
     "metadata": {},
     "output_type": "execute_result"
    }
   ],
   "source": [
    "# Create a DataFrame from the scenes\n",
    "df_scenes = pd.DataFrame(scenes)\n",
    "df_scenes = df_scenes[['display_id','wrs_path', 'wrs_row','satellite','cloud_cover','acquisition_date']]\n",
    "df_scenes.sort_values('acquisition_date', ascending=False, inplace=True)\n",
    "df_scenes['acquisition_date'] = pd.to_datetime(df_scenes['acquisition_date'])\n",
    "\n",
    "dates = []\n",
    "for scene in scenes:\n",
    "    dates.append(scene['acquisition_date'].strftime('%Y-%m-%d'))\n",
    "#     print(scene['acquisition_date'].strftime('%Y-%m-%d'))\n",
    "print(dates)\n",
    "df_scenes"
   ]
  },
  {
   "cell_type": "code",
   "execution_count": 194,
   "id": "cbd672f5",
   "metadata": {},
   "outputs": [
    {
     "data": {
      "application/vnd.jupyter.widget-view+json": {
       "model_id": "95e9a18295a644e8a9378599ed37c4d6",
       "version_major": 2,
       "version_minor": 0
      },
      "text/plain": [
       "VBox(children=(Checkbox(children=(HTML(value='<div data-toggle=\"popover\" title=\"2020-09-12\" data-container=\"bo…"
      ]
     },
     "metadata": {},
     "output_type": "display_data"
    }
   ],
   "source": [
    "choose_date = [ui.Checkbox(date, value=False, description=date) for date in dates]\n",
    "\n",
    "display_dates = widgets.VBox(choose_date)\n",
    "\n",
    "\n",
    "# # Display the checkboxes in a horizontal layout\n",
    "# landsat = widgets.VBox([check1, check2, check3,check4])\n",
    "\n",
    "display(display_dates)"
   ]
  },
  {
   "cell_type": "code",
   "execution_count": 196,
   "id": "80c33e67",
   "metadata": {},
   "outputs": [
    {
     "name": "stdout",
     "output_type": "stream",
     "text": [
      "2020-09-12\n",
      "1\n"
     ]
    }
   ],
   "source": [
    "checkbox_dates = [child.value for child in display_dates.children]\n",
    "# print(checkbox_dates)\n",
    "# print(dates)\n",
    "\n",
    "for index, date in enumerate(checkbox_dates):\n",
    "    if date == True:\n",
    "        chosen_date=dates[index]\n",
    "        chosen_date_index = index\n",
    "        print(chosen_date)\n",
    "        print(chosen_date_index)\n",
    "    \n"
   ]
  },
  {
   "cell_type": "code",
   "execution_count": 197,
   "id": "ff806f52",
   "metadata": {},
   "outputs": [],
   "source": [
    "# Attach the function to the button click event\n",
    "display_button.on_click(display_table)\n",
    "# Attach the function to the button click event using a lambda function\n",
    "# display_button.on_click(lambda _: display_table())\n"
   ]
  },
  {
   "cell_type": "code",
   "execution_count": 198,
   "id": "0373aa53",
   "metadata": {},
   "outputs": [],
   "source": [
    "# exe_button = widgets.Button(\n",
    "#     description = 'Run Analysis',\n",
    "#     disabled = False,\n",
    "#     button_style = 'success'\n",
    "# )\n",
    "# exe_button.on_click(execute)"
   ]
  },
  {
   "cell_type": "code",
   "execution_count": 59,
   "id": "666d17bf-217b-4a4e-b297-15c393186a82",
   "metadata": {},
   "outputs": [
    {
     "ename": "NameError",
     "evalue": "name 'df_scenes' is not defined",
     "output_type": "error",
     "traceback": [
      "\u001b[0;31m---------------------------------------------------------------------------\u001b[0m",
      "\u001b[0;31mNameError\u001b[0m                                 Traceback (most recent call last)",
      "\u001b[0;32m/var/folders/wc/0xgx8n6n1bsdlkc2855c63wh0000gn/T/ipykernel_23775/2972248969.py\u001b[0m in \u001b[0;36m<module>\u001b[0;34m\u001b[0m\n\u001b[1;32m     10\u001b[0m \u001b[0;31m# Select the first scene\u001b[0m\u001b[0;34m\u001b[0m\u001b[0;34m\u001b[0m\u001b[0m\n\u001b[1;32m     11\u001b[0m \u001b[0;31m# Assuming the first scene ID is stored in the variable first_scene_id\u001b[0m\u001b[0;34m\u001b[0m\u001b[0;34m\u001b[0m\u001b[0m\n\u001b[0;32m---> 12\u001b[0;31m \u001b[0mID\u001b[0m \u001b[0;34m=\u001b[0m \u001b[0mdf_scenes\u001b[0m\u001b[0;34m[\u001b[0m\u001b[0;34m'display_id'\u001b[0m\u001b[0;34m]\u001b[0m\u001b[0;34m.\u001b[0m\u001b[0miloc\u001b[0m\u001b[0;34m[\u001b[0m\u001b[0;36m0\u001b[0m\u001b[0;34m]\u001b[0m\u001b[0;34m\u001b[0m\u001b[0;34m\u001b[0m\u001b[0m\n\u001b[0m\u001b[1;32m     13\u001b[0m \u001b[0;34m\u001b[0m\u001b[0m\n\u001b[1;32m     14\u001b[0m \u001b[0;34m\u001b[0m\u001b[0m\n",
      "\u001b[0;31mNameError\u001b[0m: name 'df_scenes' is not defined"
     ]
    }
   ],
   "source": [
    "from landsatxplore.earthexplorer import EarthExplorer\n",
    "import os\n",
    "import time\n",
    "import requests\n",
    "\n",
    "\n",
    "# Initialize the API\n",
    "api = EarthExplorer(username, password)\n",
    "\n",
    "# Select the first scene\n",
    "# Assuming the first scene ID is stored in the variable first_scene_id\n",
    "ID = df_scenes['display_id'].iloc[0]\n",
    "\n",
    "\n",
    "# Get the Earth Explorer website URL for the scene\n",
    "api_scene_url = f'https://earthexplorer.usgs.gov/order/process?dataset_name=LANDSAT_8_C1&scene_id={ID}&node=INVSVC'\n",
    "\n",
    "\n",
    "# Open the scene URL in a web browser for manual download\n",
    "# print(f'You can manually download the scene from the following URL:')\n",
    "# print(api_scene_url)\n",
    "\n",
    "# Define the local file path\n",
    "output_dir = './data'\n",
    "local_file_path = os.path.join(output_dir, f'{ID}.tar')\n",
    "\n",
    "\n",
    "\n",
    "# Download the scene using requests\n",
    "try:\n",
    "    response = requests.get(api_scene_url)\n",
    "    if response.status_code == 200:\n",
    "        with open(local_file_path, 'wb') as f:\n",
    "            f.write(response.content)\n",
    "        print(f'{ID} successfully downloaded.')\n",
    "    else:\n",
    "        print(f'{ID} download failed. HTTP status code: {response.status_code}')\n",
    "except Exception as e:\n",
    "    print(f'{ID} download failed. Error: {str(e)}')\n",
    "\n",
    "api.logout()\n"
   ]
  },
  {
   "cell_type": "code",
   "execution_count": null,
   "id": "a552457a",
   "metadata": {},
   "outputs": [],
   "source": [
    "import tarfile\n",
    "\n",
    "ID = 'LC08_L2SP_010010_20221004_20221012_02_T1'\n",
    "file_path = './data/{}.tar'.format(ID)\n",
    "\n",
    "try:\n",
    "    tar = tarfile.open(file_path)\n",
    "    tar.extractall('./data/{}'.format(ID))\n",
    "    tar.close()\n",
    "    print('Extraction successful')\n",
    "except Exception as e:\n",
    "    print(f'Error: {e}')\n",
    "    \n",
    "#unzip twice \n"
   ]
  },
  {
   "cell_type": "code",
   "execution_count": null,
   "id": "1e9412bb-4b9d-445f-b6b9-65eb7f521a57",
   "metadata": {},
   "outputs": [],
   "source": [
    "# import tarfile\n",
    "\n",
    "# # Extract files from tar archive\n",
    "# tar = tarfile.open('./data/{}.tar'.format(ID))\n",
    "# tar.extractall('./data/{}'.format(ID))\n",
    "# tar.close()"
   ]
  },
  {
   "cell_type": "code",
   "execution_count": null,
   "id": "e601361b",
   "metadata": {},
   "outputs": [],
   "source": []
  },
  {
   "cell_type": "code",
   "execution_count": null,
   "id": "72cf9e6f",
   "metadata": {},
   "outputs": [],
   "source": []
  }
 ],
 "metadata": {
  "kernelspec": {
   "display_name": "Python 3 (ipykernel)",
   "language": "python",
   "name": "python3"
  },
  "language_info": {
   "codemirror_mode": {
    "name": "ipython",
    "version": 3
   },
   "file_extension": ".py",
   "mimetype": "text/x-python",
   "name": "python",
   "nbconvert_exporter": "python",
   "pygments_lexer": "ipython3",
   "version": "3.9.7"
  }
 },
 "nbformat": 4,
 "nbformat_minor": 5
}
