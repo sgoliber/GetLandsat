{
 "cells": [
  {
   "cell_type": "code",
   "execution_count": 4,
   "id": "917408e8-166d-4a4a-b352-a3f90741aade",
   "metadata": {},
   "outputs": [],
   "source": [
    "import json\n",
    "from landsatxplore.api import API\n",
    "import getpass\n",
    "import pandas as pd\n",
    "import geopandas as gpd\n",
    "import ipywidgets as widgets\n",
    "from IPython.display import display\n",
    "import matplotlib.pyplot as plt\n",
    "from hublib.ui import FileUpload\n",
    "import ipywidgets as widgets\n",
    "from IPython.display import display\n",
    "from ipywidgets import FileUpload, Checkbox, FloatSlider, Dropdown, Button, Output, VBox, DatePicker\n",
    "import urllib.request\n",
    "from io import BytesIO\n",
    "from zipfile import ZipFile\n"
   ]
  },
  {
   "cell_type": "code",
   "execution_count": 5,
   "id": "6f99e6f3",
   "metadata": {},
   "outputs": [],
   "source": [
    "import hublib.ui as ui\n",
    "from hublib.ui import HideCodeButton, RunAllButton"
   ]
  },
  {
   "cell_type": "code",
   "execution_count": 6,
   "id": "2b03240b",
   "metadata": {},
   "outputs": [
    {
     "data": {
      "application/vnd.jupyter.widget-view+json": {
       "model_id": "5c535e771662453db8c2ca0ee533aff9",
       "version_major": 2,
       "version_minor": 0
      },
      "text/plain": [
       "Button(description='Run All Cells', style=ButtonStyle())"
      ]
     },
     "metadata": {},
     "output_type": "display_data"
    }
   ],
   "source": [
    "RunAllButton()"
   ]
  },
  {
   "cell_type": "code",
   "execution_count": 7,
   "id": "7df709da",
   "metadata": {},
   "outputs": [
    {
     "data": {
      "application/vnd.jupyter.widget-view+json": {
       "model_id": "c5e6685a3b8a4bb084866f5702e5e7ca",
       "version_major": 2,
       "version_minor": 0
      },
      "text/plain": [
       "Button(button_style='danger', description='Run Cells', icon='play-circle-o', style=ButtonStyle(), tooltip='Run…"
      ]
     },
     "metadata": {},
     "output_type": "display_data"
    }
   ],
   "source": [
    "RunAllButton(label=\"Run Cells\", icon='fa-play-circle-o', style='danger', tooltip='Run All Cells', hide=True)"
   ]
  },
  {
   "cell_type": "code",
   "execution_count": 8,
   "id": "bc534312",
   "metadata": {
    "scrolled": true
   },
   "outputs": [
    {
     "data": {
      "application/vnd.jupyter.widget-view+json": {
       "model_id": "0a5462605c8e48eabb563023aa119718",
       "version_major": 2,
       "version_minor": 0
      },
      "text/plain": [
       "Button(description='Hide Code Cells', style=ButtonStyle())"
      ]
     },
     "metadata": {},
     "output_type": "display_data"
    }
   ],
   "source": [
    "HideCodeButton()"
   ]
  },
  {
   "cell_type": "code",
   "execution_count": 9,
   "id": "73ecf691",
   "metadata": {},
   "outputs": [],
   "source": [
    "# called when all files finish uploading\n",
    "def done_cb(w, name):\n",
    "    # Do something with the files here...\n",
    "    # We just print their names\n",
    "    print(\"%s uploaded\" % name)\n",
    "    \n",
    "    # reset clears and re-enables the widget for more uploads\n",
    "    # You may want to do this somewhere else, depending on your GUI\n",
    "    w.reset()"
   ]
  },
  {
   "cell_type": "code",
   "execution_count": 10,
   "id": "88e7aa95-0ccd-4893-b4dc-244770f7c09e",
   "metadata": {},
   "outputs": [
    {
     "name": "stdout",
     "output_type": "stream",
     "text": [
      "Enter your Earth Explorer username: maggiechen259\n",
      "Enter your Earth Explorer password: ········\n"
     ]
    }
   ],
   "source": [
    "# username_input = widgets.Text(description='Enter your Earth Explorer username: ')\n",
    "# password_input = widgets.Password(description='Enter your Earth Explorer password: ')\n",
    "username = input('Enter your Earth Explorer username: ')\n",
    "password = getpass.getpass('Enter your Earth Explorer password: ')\n",
    "bbox_file_input = widgets.FileUpload(description='Upload Bbox Shapefile')"
   ]
  },
  {
   "cell_type": "code",
   "execution_count": null,
   "id": "f8baee67",
   "metadata": {},
   "outputs": [],
   "source": [
    "# Process uploaded bbox shapefile\n",
    "bbox_filename = input('Enter the name of the uploaded bounding box shapefile (with extension): ')\n",
    "bbox_file_path = f'bbox/{bbox_filename}'"
   ]
  },
  {
   "cell_type": "code",
   "execution_count": null,
   "id": "2d534fab",
   "metadata": {},
   "outputs": [],
   "source": [
    "# # this will allow you to select a single file to be uploaded\n",
    "# f = FileUpload(\"Upload Area of Interest\", \n",
    "#                \"This is a description that appears when the mouse hovers over the name.\",\n",
    "#                dir='tmpdir',\n",
    "#                cb=done_cb,\n",
    "#                maxsize='20M')\n",
    "# f\n",
    "# File upload widget\n",
    "\n",
    "file_upload = FileUpload(\n",
    "    description=\"Upload Shapefile\",\n",
    "    accept=\".shp\",\n",
    "    multiple=False\n",
    ")\n",
    "file_upload"
   ]
  },
  {
   "cell_type": "code",
   "execution_count": null,
   "id": "3669cfde",
   "metadata": {},
   "outputs": [],
   "source": [
    "start_date = DatePicker(\n",
    "    description='Start Date',\n",
    "    disabled = False,\n",
    "    layout={'width': '300px'}\n",
    ")\n",
    "start_date"
   ]
  },
  {
   "cell_type": "code",
   "execution_count": null,
   "id": "16a025f9",
   "metadata": {},
   "outputs": [],
   "source": [
    "end_date = DatePicker(\n",
    "    description='End Date',\n",
    "    disabled = False,\n",
    "    layout={'width': '300px'}\n",
    ")\n",
    "end_date"
   ]
  },
  {
   "cell_type": "code",
   "execution_count": null,
   "id": "a78af4c8",
   "metadata": {},
   "outputs": [],
   "source": [
    "# Create multiple checkboxes\n",
    "check1 = ui.Checkbox('Landsat 5', desc='Select Landsat 5', value=False)\n",
    "check2 = ui.Checkbox('Landsat 7', desc='Select Landsat 7', value=False)\n",
    "check3 = ui.Checkbox('Landsat 8', desc='Select Landsat 8', value=False)\n",
    "check4 = ui.Checkbox('Landsat 9', desc='Select Landsat 9', value=False)"
   ]
  },
  {
   "cell_type": "code",
   "execution_count": null,
   "id": "be6ed36e",
   "metadata": {},
   "outputs": [],
   "source": [
    "checkboxes_horizontal = widgets.VBox([check1, check2, check3,check4])\n",
    "\n",
    "# Display the checkboxes in a horizontal layout\n",
    "display(checkboxes_horizontal)"
   ]
  },
  {
   "cell_type": "code",
   "execution_count": null,
   "id": "fd09b4c1",
   "metadata": {},
   "outputs": [],
   "source": [
    "# Cloud cover\n",
    "cloud_cover = ui.Number(\n",
    "        name='Cloud Cover',\n",
    "        description=\"Cloud Cover\",\n",
    "        units='%',\n",
    "        min=0,\n",
    "        max=500,\n",
    "        value=0\n",
    ")\n",
    "\n",
    "# cloud_cover = ui.Number(name='Cloud Cover',value=0, min=0, max=100, step=1, description='Cloud Cover (%)')\n",
    "# cloud_cover = FloatSlider(value=0, min=0, max=100, step=1, description='Cloud Cover (%)')\n",
    "cloud_cover"
   ]
  },
  {
   "cell_type": "code",
   "execution_count": 32,
   "id": "165d75d6",
   "metadata": {},
   "outputs": [
    {
     "data": {
      "application/vnd.jupyter.widget-view+json": {
       "model_id": "3e5977509b534cacab2fa1f2adb605f8",
       "version_major": 2,
       "version_minor": 0
      },
      "text/plain": [
       "Dropdown(children=(HTML(value='<div data-toggle=\"popover\" title=\"Choose the composite color\" data-container=\"b…"
      ]
     },
     "metadata": {},
     "output_type": "display_data"
    }
   ],
   "source": [
    "# composite color widgets\n",
    "composite_color = ui.Dropdown(\n",
    "            name='Composite Color',\n",
    "            description=\"Choose the composite color\",\n",
    "            value='True Color',\n",
    "            options={'True Color', 'False Color'},\n",
    "#             cb=plot\n",
    "        )\n",
    "composite_color\n",
    "\n",
    "# composite_color = Dropdown(options=['True Color', 'False Color'], value='True Color', description='Composite Color')"
   ]
  },
  {
   "cell_type": "code",
   "execution_count": 33,
   "id": "b418ff00",
   "metadata": {},
   "outputs": [],
   "source": [
    "# Output widget to display the result\n",
    "result_output = Output()"
   ]
  },
  {
   "cell_type": "code",
   "execution_count": 34,
   "id": "2e7635e4",
   "metadata": {},
   "outputs": [],
   "source": [
    "# Button to trigger the search and display results\n",
    "search_button = Button(description='Display')"
   ]
  },
  {
   "cell_type": "code",
   "execution_count": 35,
   "id": "d15ac640",
   "metadata": {},
   "outputs": [],
   "source": [
    "# Function to handle button click event\n",
    "def on_search_button_click(b):\n",
    "    # Retrieve the file path from the FileUpload widget\n",
    "    uploaded_files = file_upload.value\n",
    "    if uploaded_files:\n",
    "        shapefile_path = list(uploaded_files.keys())[0]\n",
    "        \n",
    "        # Read the uploaded shapefile\n",
    "        bbox = gpd.read_file(shapefile_path)\n",
    "        bounds = bbox.bounds.iloc[0].to_list()\n",
    "        \n",
    "        # Retrieve other widget values\n",
    "        landsat_options = [check1.value, check2.value, check3.value, check4.value]\n",
    "        cloud_cover_value = cloud_cover.value\n",
    "        composite_color_value = composite_color.value\n",
    "        \n",
    "        # Perform further processing based on the retrieved values\n",
    "        with result_output:\n",
    "            print(f\"Shapefile Path: {shapefile_path}\")\n",
    "            print(f\"Landsat Options: {landsat_options}\")\n",
    "            print(f\"Cloud Cover: {cloud_cover_value}%\")\n",
    "            print(f\"Composite Color: {composite_color_value}\")"
   ]
  },
  {
   "cell_type": "code",
   "execution_count": 36,
   "id": "9f5cc2fd",
   "metadata": {},
   "outputs": [],
   "source": [
    "# Attach the function to the button click event\n",
    "search_button.on_click(on_search_button_click)"
   ]
  },
  {
   "cell_type": "code",
   "execution_count": 37,
   "id": "be896b08",
   "metadata": {},
   "outputs": [
    {
     "data": {
      "application/vnd.jupyter.widget-view+json": {
       "model_id": "ac7ac67afd65490f8ea687821a105e38",
       "version_major": 2,
       "version_minor": 0
      },
      "text/plain": [
       "VBox(children=(FileUpload(value={'test_bbox.shp': {'metadata': {'name': 'test_bbox.shp', 'type': '', 'size': 2…"
      ]
     },
     "metadata": {},
     "output_type": "display_data"
    }
   ],
   "source": [
    "# Display the widgets\n",
    "VBox([file_upload,\n",
    "      start_date,\n",
    "      end_date,\n",
    "      VBox([check1, check2, check3, check4]),\n",
    "      cloud_cover, \n",
    "      composite_color, \n",
    "      search_button,\n",
    "      result_output])\n"
   ]
  },
  {
   "cell_type": "code",
   "execution_count": 38,
   "id": "0373aa53",
   "metadata": {},
   "outputs": [],
   "source": [
    "# exe_button = widgets.Button(\n",
    "#     description = 'Run Analysis',\n",
    "#     disabled = False,\n",
    "#     button_style = 'success'\n",
    "# )\n",
    "# exe_button.on_click(execute)"
   ]
  },
  {
   "cell_type": "code",
   "execution_count": 40,
   "id": "c01d0644",
   "metadata": {},
   "outputs": [
    {
     "ename": "NameError",
     "evalue": "name 'filename' is not defined",
     "output_type": "error",
     "traceback": [
      "\u001b[0;31m---------------------------------------------------------------------------\u001b[0m",
      "\u001b[0;31mNameError\u001b[0m                                 Traceback (most recent call last)",
      "\u001b[0;32m/var/folders/wc/0xgx8n6n1bsdlkc2855c63wh0000gn/T/ipykernel_33055/3595669760.py\u001b[0m in \u001b[0;36m<module>\u001b[0;34m\u001b[0m\n\u001b[1;32m      1\u001b[0m \u001b[0;31m#upload area of interest\u001b[0m\u001b[0;34m\u001b[0m\u001b[0;34m\u001b[0m\u001b[0m\n\u001b[1;32m      2\u001b[0m \u001b[0;34m\u001b[0m\u001b[0m\n\u001b[0;32m----> 3\u001b[0;31m \u001b[0mbbox\u001b[0m \u001b[0;34m=\u001b[0m \u001b[0mgpd\u001b[0m\u001b[0;34m.\u001b[0m\u001b[0mread_file\u001b[0m\u001b[0;34m(\u001b[0m\u001b[0mfilename\u001b[0m\u001b[0;34m)\u001b[0m\u001b[0;34m\u001b[0m\u001b[0;34m\u001b[0m\u001b[0m\n\u001b[0m\u001b[1;32m      4\u001b[0m \u001b[0;34m\u001b[0m\u001b[0m\n\u001b[1;32m      5\u001b[0m \u001b[0mbounds\u001b[0m \u001b[0;34m=\u001b[0m \u001b[0mbbox\u001b[0m\u001b[0;34m.\u001b[0m\u001b[0mbounds\u001b[0m\u001b[0;34m.\u001b[0m\u001b[0miloc\u001b[0m\u001b[0;34m[\u001b[0m\u001b[0;36m0\u001b[0m\u001b[0;34m]\u001b[0m\u001b[0;34m.\u001b[0m\u001b[0mto_list\u001b[0m\u001b[0;34m(\u001b[0m\u001b[0;34m)\u001b[0m\u001b[0;34m\u001b[0m\u001b[0;34m\u001b[0m\u001b[0m\n",
      "\u001b[0;31mNameError\u001b[0m: name 'filename' is not defined"
     ]
    }
   ],
   "source": [
    "#upload area of interest\n",
    "\n",
    "bbox = gpd.read_file(bbox_file_path)\n",
    "\n",
    "bounds = bbox.bounds.iloc[0].to_list()"
   ]
  },
  {
   "cell_type": "code",
   "execution_count": null,
   "id": "4d26cd63-7190-420e-a93b-e91f5bc893b7",
   "metadata": {},
   "outputs": [],
   "source": [
    "#Initialize a new API instance\n",
    "api = API(username, password)\n",
    "\n",
    "# Perform a request\n",
    "response = api.request(endpoint=\"dataset-catalogs\")\n",
    "print(response)\n",
    "\n",
    "# Search for Landsat TM scenes\n",
    "scenes = api.search(\n",
    "    dataset='landsat_ot_c2_l2',\n",
    "    bbox = bounds,\n",
    "    start_date= start_date.strftime('%Y-%m-%d'),\n",
    "    end_date= end_date.strftime('%Y-%m-%d'),\n",
    "    max_cloud_cover= cloud_cover.value\n",
    ")\n",
    "print(f\"{len(scenes)} scenes found.\")\n",
    "\n",
    "# Process the result\n",
    "for scene in scenes:\n",
    "    print(scene['acquisition_date'].strftime('%Y-%m-%d'))\n",
    "    # Write scene footprints to disk\n",
    "    fname = f\"{scene['landsat_product_id']}.geojson\"\n",
    "    with open(fname, \"w\") as f:\n",
    "        json.dump(scene['spatial_coverage'].__geo_interface__, f)\n",
    "\n",
    "# log out\n",
    "api.logout()\n",
    "\n"
   ]
  },
  {
   "cell_type": "code",
   "execution_count": null,
   "id": "accaccac-d836-4ffc-ad7e-9636233c350f",
   "metadata": {},
   "outputs": [],
   "source": [
    "# Create a DataFrame from the scenes\n",
    "df_scenes = pd.DataFrame(scenes)\n",
    "df_scenes = df_scenes[['display_id','wrs_path', 'wrs_row','satellite','cloud_cover','acquisition_date']]\n",
    "df_scenes.sort_values('acquisition_date', ascending=False, inplace=True)\n",
    "df_scenes"
   ]
  },
  {
   "cell_type": "code",
   "execution_count": null,
   "id": "666d17bf-217b-4a4e-b297-15c393186a82",
   "metadata": {},
   "outputs": [],
   "source": [
    "from landsatxplore.earthexplorer import EarthExplorer\n",
    "import os\n",
    "import time\n",
    "import requests\n",
    "\n",
    "\n",
    "# Initialize the API\n",
    "api = EarthExplorer(username, password)\n",
    "\n",
    "# Select the first scene\n",
    "# Assuming the first scene ID is stored in the variable first_scene_id\n",
    "ID = df_scenes['display_id'].iloc[0]\n",
    "output_dir = './data'\n",
    "\n",
    "\n",
    "# Get the Earth Explorer website URL for the scene\n",
    "# api_scene_url = f'https://earthexplorer.usgs.gov/order/process?dataset_name=LANDSAT_8_C1&scene_id={ID}&node=INVSVC'\n",
    "\n",
    "\n",
    "# Open the scene URL in a web browser for manual download\n",
    "# print(f'You can manually download the scene from the following URL:')\n",
    "# print(api_scene_url)\n",
    "\n",
    "# Define the local file path\n",
    "local_file_path = os.path.join(output_dir, f'{ID}.tar')\n",
    "\n",
    "\n",
    "\n",
    "# Download the scene using requests\n",
    "try:\n",
    "    response = requests.get(api_scene_url)\n",
    "    if response.status_code == 200:\n",
    "        with open(local_file_path, 'wb') as f:\n",
    "            f.write(response.content)\n",
    "        print(f'{ID} successfully downloaded.')\n",
    "    else:\n",
    "        print(f'{ID} download failed. HTTP status code: {response.status_code}')\n",
    "except Exception as e:\n",
    "    print(f'{ID} download failed. Error: {str(e)}')\n",
    "\n",
    "api.logout()\n"
   ]
  },
  {
   "cell_type": "code",
   "execution_count": null,
   "id": "a552457a",
   "metadata": {},
   "outputs": [],
   "source": [
    "import tarfile\n",
    "\n",
    "ID = 'LC08_L2SP_010010_20221004_20221012_02_T1'\n",
    "file_path = './data/{}.tar'.format(ID)\n",
    "\n",
    "try:\n",
    "    tar = tarfile.open(file_path)\n",
    "    tar.extractall('./data/{}'.format(ID))\n",
    "    tar.close()\n",
    "    print('Extraction successful')\n",
    "except Exception as e:\n",
    "    print(f'Error: {e}')\n"
   ]
  },
  {
   "cell_type": "code",
   "execution_count": null,
   "id": "1e9412bb-4b9d-445f-b6b9-65eb7f521a57",
   "metadata": {},
   "outputs": [],
   "source": [
    "# import tarfile\n",
    "\n",
    "# # Extract files from tar archive\n",
    "# tar = tarfile.open('./data/{}.tar'.format(ID))\n",
    "# tar.extractall('./data/{}'.format(ID))\n",
    "# tar.close()"
   ]
  },
  {
   "cell_type": "code",
   "execution_count": null,
   "id": "e601361b",
   "metadata": {},
   "outputs": [],
   "source": []
  },
  {
   "cell_type": "code",
   "execution_count": null,
   "id": "72cf9e6f",
   "metadata": {},
   "outputs": [],
   "source": []
  }
 ],
 "metadata": {
  "kernelspec": {
   "display_name": "Python 3 (ipykernel)",
   "language": "python",
   "name": "python3"
  },
  "language_info": {
   "codemirror_mode": {
    "name": "ipython",
    "version": 3
   },
   "file_extension": ".py",
   "mimetype": "text/x-python",
   "name": "python",
   "nbconvert_exporter": "python",
   "pygments_lexer": "ipython3",
   "version": "3.9.7"
  }
 },
 "nbformat": 4,
 "nbformat_minor": 5
}
