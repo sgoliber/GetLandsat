{
 "cells": [
  {
   "cell_type": "code",
   "execution_count": 70,
   "id": "917408e8-166d-4a4a-b352-a3f90741aade",
   "metadata": {},
   "outputs": [],
   "source": [
    "import json\n",
    "from landsatxplore.api import API\n",
    "import getpass\n",
    "import pandas as pd\n",
    "import geopandas as gpd\n",
    "import ipywidgets as widgets\n",
    "from IPython.display import display\n",
    "import matplotlib.pyplot as plt\n",
    "from hublib.ui import FileUpload\n",
    "import ipywidgets as widgets\n",
    "from IPython.display import display\n",
    "from ipywidgets import FileUpload, Checkbox, FloatSlider, Dropdown, Button, Output, VBox, DatePicker\n",
    "import urllib.request\n",
    "from io import BytesIO\n",
    "from zipfile import ZipFile\n",
    "from datetime import datetime\n",
    "import os\n",
    "from IPython.display import display, HTML"
   ]
  },
  {
   "cell_type": "code",
   "execution_count": 71,
   "id": "6f99e6f3",
   "metadata": {},
   "outputs": [],
   "source": [
    "import hublib.ui as ui\n",
    "from hublib.ui import HideCodeButton, RunAllButton"
   ]
  },
  {
   "cell_type": "code",
   "execution_count": 72,
   "id": "2b03240b",
   "metadata": {},
   "outputs": [
    {
     "data": {
      "application/vnd.jupyter.widget-view+json": {
       "model_id": "dc3710f2df5e4d2db2e94a592fe9d35f",
       "version_major": 2,
       "version_minor": 0
      },
      "text/plain": [
       "Button(description='Run All Cells', style=ButtonStyle())"
      ]
     },
     "metadata": {},
     "output_type": "display_data"
    }
   ],
   "source": [
    "RunAllButton()"
   ]
  },
  {
   "cell_type": "code",
   "execution_count": 73,
   "id": "7df709da",
   "metadata": {},
   "outputs": [
    {
     "data": {
      "application/vnd.jupyter.widget-view+json": {
       "model_id": "f2472e54d48547b18fed39db9f435053",
       "version_major": 2,
       "version_minor": 0
      },
      "text/plain": [
       "Button(button_style='danger', description='Run Cells', icon='play-circle-o', style=ButtonStyle(), tooltip='Run…"
      ]
     },
     "metadata": {},
     "output_type": "display_data"
    }
   ],
   "source": [
    "RunAllButton(label=\"Run Cells\", icon='fa-play-circle-o', style='danger', tooltip='Run All Cells', hide=True)"
   ]
  },
  {
   "cell_type": "code",
   "execution_count": 74,
   "id": "bc534312",
   "metadata": {
    "scrolled": true
   },
   "outputs": [
    {
     "data": {
      "application/vnd.jupyter.widget-view+json": {
       "model_id": "35867ef33f69487d854ca8d35e11af02",
       "version_major": 2,
       "version_minor": 0
      },
      "text/plain": [
       "Button(description='Hide Code Cells', style=ButtonStyle())"
      ]
     },
     "metadata": {},
     "output_type": "display_data"
    }
   ],
   "source": [
    "HideCodeButton()"
   ]
  },
  {
   "cell_type": "code",
   "execution_count": 76,
   "id": "88e7aa95-0ccd-4893-b4dc-244770f7c09e",
   "metadata": {},
   "outputs": [
    {
     "name": "stdout",
     "output_type": "stream",
     "text": [
      "Enter your Earth Explorer username: maggiechen259\n",
      "Enter your Earth Explorer password: ········\n"
     ]
    }
   ],
   "source": [
    "# username_input = widgets.Text(description='Enter your Earth Explorer username: ')\n",
    "# password_input = widgets.Password(description='Enter your Earth Explorer password: ')\n",
    "username = input('Enter your Earth Explorer username: ')\n",
    "password = getpass.getpass('Enter your Earth Explorer password: ')\n",
    "# bbox_file_input = widgets.FileUpload(description='Upload Bbox Shapefile')"
   ]
  },
  {
   "cell_type": "code",
   "execution_count": 77,
   "id": "2d534fab",
   "metadata": {},
   "outputs": [],
   "source": [
    "allowed_extensions = ['.shp', '.gpkg']\n",
    "\n",
    "file_upload = FileUpload(\n",
    "    description=\"Upload Shapefile\",\n",
    "    accept=','.join(allowed_extensions),\n",
    "    multiple=False\n",
    ")\n"
   ]
  },
  {
   "cell_type": "code",
   "execution_count": 78,
   "id": "8c369101",
   "metadata": {},
   "outputs": [],
   "source": [
    "# output_dir = './box'\n",
    "# local_file_path = os.path.join(output_dir, f'{ID}.shp')\n"
   ]
  },
  {
   "cell_type": "code",
   "execution_count": 79,
   "id": "f63b7e43",
   "metadata": {},
   "outputs": [],
   "source": [
    "# # Attach the handle_file_upload function to the upload button's on_click event\n",
    "# upload_button.on_click(handle_file_upload)"
   ]
  },
  {
   "cell_type": "code",
   "execution_count": 80,
   "id": "570fef08",
   "metadata": {},
   "outputs": [
    {
     "data": {
      "text/html": [
       "<p style='color:red'>Please choose within two weeks</p>"
      ],
      "text/plain": [
       "<IPython.core.display.HTML object>"
      ]
     },
     "metadata": {},
     "output_type": "display_data"
    }
   ],
   "source": [
    "message = \"Please choose within two weeks\"\n",
    "display(HTML(f\"<p style='color:red'>{message}</p>\"))"
   ]
  },
  {
   "cell_type": "code",
   "execution_count": 81,
   "id": "3669cfde",
   "metadata": {},
   "outputs": [],
   "source": [
    "start_date = DatePicker(\n",
    "    description='Start Date',\n",
    "    disabled = False,\n",
    "    layout={'width': '300px'}\n",
    ")\n",
    "# start_date"
   ]
  },
  {
   "cell_type": "code",
   "execution_count": 82,
   "id": "16a025f9",
   "metadata": {},
   "outputs": [],
   "source": [
    "end_date = DatePicker(\n",
    "    description='End Date',\n",
    "    disabled = False,\n",
    "    layout={'width': '300px'}\n",
    ")\n",
    "# end_date"
   ]
  },
  {
   "cell_type": "code",
   "execution_count": 83,
   "id": "a78af4c8",
   "metadata": {},
   "outputs": [],
   "source": [
    "# Create multiple checkboxes\n",
    "check1 = ui.Checkbox('Landsat 5', desc='Landsat 5', value=False)\n",
    "check2 = ui.Checkbox('Landsat 7', desc='Landsat 7', value=False)\n",
    "check3 = ui.Checkbox('Landsat 8', desc='Landsat 8', value=False)\n",
    "check4 = ui.Checkbox('Landsat 9', desc='Landsat 9', value=False)"
   ]
  },
  {
   "cell_type": "code",
   "execution_count": 85,
   "id": "fd09b4c1",
   "metadata": {},
   "outputs": [],
   "source": [
    "\n",
    "# Display the checkboxes in a horizontal layout\n",
    "landsat = widgets.VBox([check1, check2, check3,check4])\n",
    "\n",
    "# Cloud cover\n",
    "cloud_cover = ui.Number(\n",
    "        name='Max Cloud Cover',\n",
    "        description=\"Cloud Cover\",\n",
    "        units='%',\n",
    "        min=0,\n",
    "        max=500,\n",
    "        value=0\n",
    ")\n",
    "\n",
    "composite_color = ui.Dropdown(\n",
    "            name='Composite Color',\n",
    "            description=\"Choose the composite color\",\n",
    "            value='True Color',\n",
    "            options={'True Color', 'False Color'},\n",
    "#             cb=plot\n",
    "        )"
   ]
  },
  {
   "cell_type": "code",
   "execution_count": 87,
   "id": "b418ff00",
   "metadata": {},
   "outputs": [],
   "source": [
    "# Output widget to display the result\n",
    "result_output = Output()"
   ]
  },
  {
   "cell_type": "code",
   "execution_count": 88,
   "id": "2e7635e4",
   "metadata": {},
   "outputs": [],
   "source": [
    "# # Button to trigger the search and display results\n",
    "# search_button = Button(description='Display')"
   ]
  },
  {
   "cell_type": "code",
   "execution_count": 89,
   "id": "d15ac640",
   "metadata": {},
   "outputs": [],
   "source": [
    "# Function to handle button click event\n",
    "def on_search_button_click(b):\n",
    "    # Retrieve the file path from the FileUpload widget\n",
    "    uploaded_files = file_upload.value\n",
    "    if uploaded_files:\n",
    "        shapefile_path = list(uploaded_files.keys())[0]\n",
    "        \n",
    "        # Read the uploaded shapefile\n",
    "        bbox = gpd.read_file(shapefile_path)\n",
    "        bounds = bbox.bounds.iloc[0].to_list()\n",
    "        \n",
    "        # Retrieve other widget values\n",
    "        landsat_options = [check1.value, check2.value, check3.value, check4.value]\n",
    "        cloud_cover_value = cloud_cover.value\n",
    "        composite_color_value = composite_color.value\n",
    "        \n",
    "        # Perform further processing based on the retrieved values\n",
    "        with result_output:\n",
    "            print(f\"Shapefile Path: {shapefile_path}\")\n",
    "            print(f\"Landsat Options: {landsat_options}\")\n",
    "            print(f\"Cloud Cover: {cloud_cover_value}%\")\n",
    "            print(f\"Composite Color: {composite_color_value}\")"
   ]
  },
  {
   "cell_type": "code",
   "execution_count": 90,
   "id": "bf41eb1c",
   "metadata": {},
   "outputs": [],
   "source": [
    "# Button to trigger the search and display results\n",
    "search_button = Button(description='Display')"
   ]
  },
  {
   "cell_type": "code",
   "execution_count": 91,
   "id": "9f5cc2fd",
   "metadata": {},
   "outputs": [],
   "source": [
    "# #Attach the function to the button click event\n",
    "# display_button.on_click(on_search_button_click)"
   ]
  },
  {
   "cell_type": "code",
   "execution_count": 92,
   "id": "be896b08",
   "metadata": {},
   "outputs": [
    {
     "data": {
      "application/vnd.jupyter.widget-view+json": {
       "model_id": "d61a6646e836483ebc6830f22992c096",
       "version_major": 2,
       "version_minor": 0
      },
      "text/plain": [
       "VBox(children=(FileUpload(value={}, accept='.shp,.gpkg', description='Upload Shapefile'), DatePicker(value=Non…"
      ]
     },
     "metadata": {},
     "output_type": "display_data"
    }
   ],
   "source": [
    "# Display the widgets\n",
    "VBox([file_upload,\n",
    "#       upload_button, \n",
    "#       output,\n",
    "      start_date,\n",
    "      end_date,\n",
    "      VBox([check1, check2, check3, check4]),\n",
    "      cloud_cover, \n",
    "      composite_color, \n",
    "      search_button,\n",
    "      result_output])\n"
   ]
  },
  {
   "cell_type": "code",
   "execution_count": 97,
   "id": "b514caa2",
   "metadata": {},
   "outputs": [],
   "source": [
    "def handle_file_upload(change):\n",
    "    with output:\n",
    "        # Clear previous output\n",
    "        output.clear_output()\n",
    "\n",
    "        # Check if any files are uploaded\n",
    "        if file_upload.value:\n",
    "            # Get the first uploaded file content\n",
    "            uploaded_file_content = next(iter(file_upload.value.values()))['content']\n",
    "\n",
    "            # Create a file-like object from the uploaded content\n",
    "            file_like_object = BytesIO(uploaded_file_content)\n",
    "\n",
    "            # Extract the zip file if it's a shapefile archive\n",
    "            with ZipFile(file_like_object, 'r') as zip_ref:\n",
    "                # Assuming the shapefile is in the root of the zip file\n",
    "                shapefile_name = [name for name in zip_ref.namelist() if name.endswith('.shp')][0]\n",
    "\n",
    "                # Read the shapefile using geopandas\n",
    "                bbox = gpd.read_file(BytesIO(zip_ref.read(shapefile_name)))\n",
    "\n",
    "            # Extract the bounds from the shapefile\n",
    "            bounds = bbox.bounds.iloc[0].to_list()\n",
    "\n",
    "            print(\"File uploaded successfully.\")\n",
    "            print(\"Bounds:\", bounds)"
   ]
  },
  {
   "cell_type": "code",
   "execution_count": 98,
   "id": "f8baee67",
   "metadata": {},
   "outputs": [
    {
     "name": "stdout",
     "output_type": "stream",
     "text": [
      "Uploaded file name: helheim.gpkg\n"
     ]
    }
   ],
   "source": [
    "# Process uploaded bbox shapefile\n",
    "# bbox_filename = input('Enter the name of the uploaded bounding box shapefile (with extension): ')\n",
    "\n",
    "uploaded_filename = next(iter(file_upload.value))\n",
    "print(f\"Uploaded file name: {uploaded_filename}\")\n",
    "\n",
    "bbox_file_path = f'bbox/{uploaded_filename}'\n",
    "\n"
   ]
  },
  {
   "cell_type": "code",
   "execution_count": 105,
   "id": "c01d0644",
   "metadata": {},
   "outputs": [
    {
     "name": "stdout",
     "output_type": "stream",
     "text": [
      "File 'helheim.gpkg' saved to './bbox'\n"
     ]
    }
   ],
   "source": [
    "#upload area of interest\n",
    "upload_directory = './bbox'\n",
    "os.makedirs(upload_directory, exist_ok=True)\n",
    "\n",
    "try:\n",
    "        if file_upload.value:\n",
    "        # Iterate over uploaded files\n",
    "            for filename, file_info in file_upload.value.items():\n",
    "                # Save the file to the specified directory\n",
    "                file_path = os.path.join(upload_directory, filename)\n",
    "                with open(file_path, 'wb') as f:\n",
    "                    f.write(file_info['content'])\n",
    "\n",
    "                print(f\"File '{filename}' saved to '{upload_directory}'\")\n",
    "            \n",
    "except Exception as e:\n",
    "        print(f'Uploaded failed. Error: {str(e)}')\n",
    "\n",
    "\n",
    "# bbox = gpd.read_file(file_upload.value[0])\n",
    "bbox = gpd.read_file(bbox_file_path)\n",
    "bbox = bbox.to_crs('EPSG:4326')\n",
    "bounds = bbox.bounds.iloc[0].to_list()"
   ]
  },
  {
   "cell_type": "code",
   "execution_count": 106,
   "id": "ff13fb97",
   "metadata": {},
   "outputs": [],
   "source": [
    "def display_table():\n",
    "    df_scenes = pd.DataFrame(scenes)\n",
    "    df_scenes = df_scenes[['display_id','wrs_path', 'wrs_row','satellite','cloud_cover','acquisition_date']]\n",
    "    df_scenes.sort_values('acquisition_date', ascending=False, inplace=True)\n",
    "    df_scenes['acquisition_date'] = pd.to_datetime(df_scenes['acquisition_date'])\n",
    "    display(df_scenes)"
   ]
  },
  {
   "cell_type": "code",
   "execution_count": 108,
   "id": "4d26cd63-7190-420e-a93b-e91f5bc893b7",
   "metadata": {},
   "outputs": [
    {
     "name": "stdout",
     "output_type": "stream",
     "text": [
      "8\n",
      "landsat_ot_c2_l1\n",
      "{'EE': 'EarthExplorer', 'GV': 'GloVis', 'HDDS': 'HDDS Explorer'}\n",
      "2022-04-20\n",
      "2022-06-20\n",
      "31 scenes found.\n",
      "2022-06-19\n",
      "2022-06-17\n",
      "2022-06-17\n",
      "2022-06-11\n",
      "2022-06-10\n",
      "2022-06-10\n",
      "2022-06-10\n",
      "2022-06-10\n",
      "2022-06-09\n",
      "2022-06-09\n",
      "2022-06-08\n",
      "2022-06-08\n",
      "2022-06-07\n",
      "2022-06-04\n",
      "2022-06-03\n",
      "2022-06-02\n",
      "2022-05-30\n",
      "2022-05-14\n",
      "2022-05-09\n",
      "2022-05-08\n",
      "2022-05-08\n",
      "2022-05-07\n",
      "2022-05-07\n",
      "2022-05-06\n",
      "2022-05-01\n",
      "2022-04-30\n",
      "2022-04-30\n",
      "2022-04-29\n",
      "2022-04-23\n",
      "2022-04-23\n",
      "2022-04-20\n"
     ]
    }
   ],
   "source": [
    "#Landsat 5 TM Collection 2 Level 1\tlandsat_tm_c2_l1\n",
    "# Landsat 5 TM Collection 2 Level 2\tlandsat_tm_c2_l2\n",
    "# Landsat 7 ETM+ Collection 2 Level 1\tlandsat_etm_c2_l1\n",
    "# Landsat 7 ETM+ Collection 2 Level 2\tlandsat_etm_c2_l2\n",
    "# Landsat 8 Collection 2 Level 1\tlandsat_ot_c2_l1\n",
    "# Landsat 8 Collection 2 Level 2\tlandsat_ot_c2_l2\n",
    "# Landsat 9 Collection 2 Level 1\tlandsat_ot_c2_l1\n",
    "# Landsat 9 Collection 2 Level 2\tlandsat_ot_c2_l2\n",
    "\n",
    "# dic = {5:['landsat_tm_c2_l1','landsat_tm_c2_l2'],\n",
    "#        7:['landsat_etm_c2_l1','landsat_etm_c2_l2'],\n",
    "#        8:['landsat_ot_c2_l1','landsat_ot_c2_l2'],\n",
    "#        9:['landsat_ot_c2_l1','landsat_ot_c2_l2']}\n",
    "\n",
    "dic = {5:'landsat_tm_c2_l1',\n",
    "       7:'landsat_etm_c2_l1',\n",
    "       8:'landsat_ot_c2_l1',\n",
    "       9:'landsat_ot_c2_l1'}\n",
    "landsats = [5,7,8,9]\n",
    "\n",
    "\n",
    "# #Initialize a new API instance\n",
    "\n",
    "# Get the values of checkboxes within the VBox\n",
    "checkbox_values = [child.value for child in landsat.children]\n",
    "\n",
    "# print(checkbox_values)\n",
    "for index, value in enumerate(checkbox_values):\n",
    "    if value == True:\n",
    "        landsat_id = landsats[index]\n",
    "print(landsat_id)\n",
    "print(dic[landsat_id])\n",
    "\n",
    "# if landsat.value in dic:\n",
    "#     landsat_dataset_id = dic[landsat.value]\n",
    "    \n",
    "api = API(username, password)\n",
    "\n",
    "# Perform a request\n",
    "response = api.request(endpoint=\"dataset-catalogs\")\n",
    "print(response)\n",
    "\n",
    "# Search for Landsat TM scenes\n",
    "print(start_date.value)\n",
    "print(end_date.value)\n",
    "scenes = api.search(\n",
    "#     dataset='landsat_ot_c2_l1',\n",
    "    dataset = str(dic[landsat_id]),\n",
    "#     dataset=str(checkbox_values[0]),\n",
    "    bbox = bounds,\n",
    "    start_date = str(start_date.value),\n",
    "    end_date = str(end_date.value),\n",
    "    max_cloud_cover= str(cloud_cover.value),\n",
    "#     composite_color = composite_color.value,\n",
    "#     landsat = [checkbox.value for checkbox in landsat.children]\n",
    ")\n",
    "print(f\"{len(scenes)} scenes found.\")\n",
    "\n",
    "# Process the result\n",
    "for scene in scenes:\n",
    "    print(scene['acquisition_date'].strftime('%Y-%m-%d'))\n",
    "    # Write scene footprints to disk\n",
    "    fname = f\"{scene['landsat_product_id']}.geojson\"\n",
    "    with open(fname, \"w\") as f:\n",
    "        json.dump(scene['spatial_coverage'].__geo_interface__, f)\n",
    "\n",
    "# log out\n",
    "api.logout()\n",
    "\n"
   ]
  },
  {
   "cell_type": "code",
   "execution_count": 110,
   "id": "accaccac-d836-4ffc-ad7e-9636233c350f",
   "metadata": {},
   "outputs": [
    {
     "data": {
      "text/html": [
       "<div>\n",
       "<style scoped>\n",
       "    .dataframe tbody tr th:only-of-type {\n",
       "        vertical-align: middle;\n",
       "    }\n",
       "\n",
       "    .dataframe tbody tr th {\n",
       "        vertical-align: top;\n",
       "    }\n",
       "\n",
       "    .dataframe thead th {\n",
       "        text-align: right;\n",
       "    }\n",
       "</style>\n",
       "<table border=\"1\" class=\"dataframe\">\n",
       "  <thead>\n",
       "    <tr style=\"text-align: right;\">\n",
       "      <th></th>\n",
       "      <th>display_id</th>\n",
       "      <th>wrs_path</th>\n",
       "      <th>wrs_row</th>\n",
       "      <th>satellite</th>\n",
       "      <th>cloud_cover</th>\n",
       "      <th>acquisition_date</th>\n",
       "    </tr>\n",
       "  </thead>\n",
       "  <tbody>\n",
       "    <tr>\n",
       "      <th>30</th>\n",
       "      <td>LC09_L1GT_001013_20220420_20230421_02_T2</td>\n",
       "      <td>1</td>\n",
       "      <td>13</td>\n",
       "      <td>9</td>\n",
       "      <td>1</td>\n",
       "      <td>2022-04-20</td>\n",
       "    </tr>\n",
       "    <tr>\n",
       "      <th>28</th>\n",
       "      <td>LC08_L1TP_231013_20220423_20220428_02_T1</td>\n",
       "      <td>231</td>\n",
       "      <td>13</td>\n",
       "      <td>8</td>\n",
       "      <td>2</td>\n",
       "      <td>2022-04-23</td>\n",
       "    </tr>\n",
       "    <tr>\n",
       "      <th>29</th>\n",
       "      <td>LC08_L1TP_231014_20220423_20220428_02_T1</td>\n",
       "      <td>231</td>\n",
       "      <td>14</td>\n",
       "      <td>8</td>\n",
       "      <td>17</td>\n",
       "      <td>2022-04-23</td>\n",
       "    </tr>\n",
       "    <tr>\n",
       "      <th>27</th>\n",
       "      <td>LC09_L1TP_233013_20220429_20230418_02_T1</td>\n",
       "      <td>233</td>\n",
       "      <td>13</td>\n",
       "      <td>9</td>\n",
       "      <td>9</td>\n",
       "      <td>2022-04-29</td>\n",
       "    </tr>\n",
       "    <tr>\n",
       "      <th>26</th>\n",
       "      <td>LC08_L1TP_232014_20220430_20220504_02_T1</td>\n",
       "      <td>232</td>\n",
       "      <td>14</td>\n",
       "      <td>8</td>\n",
       "      <td>16</td>\n",
       "      <td>2022-04-30</td>\n",
       "    </tr>\n",
       "    <tr>\n",
       "      <th>25</th>\n",
       "      <td>LC08_L1TP_232013_20220430_20220504_02_T1</td>\n",
       "      <td>232</td>\n",
       "      <td>13</td>\n",
       "      <td>8</td>\n",
       "      <td>14</td>\n",
       "      <td>2022-04-30</td>\n",
       "    </tr>\n",
       "    <tr>\n",
       "      <th>24</th>\n",
       "      <td>LC09_L1TP_231013_20220501_20230418_02_T1</td>\n",
       "      <td>231</td>\n",
       "      <td>13</td>\n",
       "      <td>9</td>\n",
       "      <td>2</td>\n",
       "      <td>2022-05-01</td>\n",
       "    </tr>\n",
       "    <tr>\n",
       "      <th>23</th>\n",
       "      <td>LC09_L1GT_001013_20220506_20230417_02_T2</td>\n",
       "      <td>1</td>\n",
       "      <td>13</td>\n",
       "      <td>9</td>\n",
       "      <td>0</td>\n",
       "      <td>2022-05-06</td>\n",
       "    </tr>\n",
       "    <tr>\n",
       "      <th>22</th>\n",
       "      <td>LC08_L1TP_233014_20220507_20220512_02_T1</td>\n",
       "      <td>233</td>\n",
       "      <td>14</td>\n",
       "      <td>8</td>\n",
       "      <td>0</td>\n",
       "      <td>2022-05-07</td>\n",
       "    </tr>\n",
       "    <tr>\n",
       "      <th>21</th>\n",
       "      <td>LC08_L1TP_233013_20220507_20220512_02_T1</td>\n",
       "      <td>233</td>\n",
       "      <td>13</td>\n",
       "      <td>8</td>\n",
       "      <td>0</td>\n",
       "      <td>2022-05-07</td>\n",
       "    </tr>\n",
       "    <tr>\n",
       "      <th>20</th>\n",
       "      <td>LC09_L1TP_232014_20220508_20230417_02_T1</td>\n",
       "      <td>232</td>\n",
       "      <td>14</td>\n",
       "      <td>9</td>\n",
       "      <td>20</td>\n",
       "      <td>2022-05-08</td>\n",
       "    </tr>\n",
       "    <tr>\n",
       "      <th>19</th>\n",
       "      <td>LC09_L1TP_232013_20220508_20230417_02_T1</td>\n",
       "      <td>232</td>\n",
       "      <td>13</td>\n",
       "      <td>9</td>\n",
       "      <td>2</td>\n",
       "      <td>2022-05-08</td>\n",
       "    </tr>\n",
       "    <tr>\n",
       "      <th>18</th>\n",
       "      <td>LC08_L1TP_231013_20220509_20220518_02_T1</td>\n",
       "      <td>231</td>\n",
       "      <td>13</td>\n",
       "      <td>8</td>\n",
       "      <td>17</td>\n",
       "      <td>2022-05-09</td>\n",
       "    </tr>\n",
       "    <tr>\n",
       "      <th>17</th>\n",
       "      <td>LC08_L1GT_001013_20220514_20220519_02_T2</td>\n",
       "      <td>1</td>\n",
       "      <td>13</td>\n",
       "      <td>8</td>\n",
       "      <td>1</td>\n",
       "      <td>2022-05-14</td>\n",
       "    </tr>\n",
       "    <tr>\n",
       "      <th>16</th>\n",
       "      <td>LC08_L1GT_001013_20220530_20220609_02_T2</td>\n",
       "      <td>1</td>\n",
       "      <td>13</td>\n",
       "      <td>8</td>\n",
       "      <td>1</td>\n",
       "      <td>2022-05-30</td>\n",
       "    </tr>\n",
       "    <tr>\n",
       "      <th>15</th>\n",
       "      <td>LC09_L1GT_078231_20220602_20230414_02_T2</td>\n",
       "      <td>78</td>\n",
       "      <td>231</td>\n",
       "      <td>9</td>\n",
       "      <td>1</td>\n",
       "      <td>2022-06-02</td>\n",
       "    </tr>\n",
       "    <tr>\n",
       "      <th>14</th>\n",
       "      <td>LC08_L1GT_077231_20220603_20220609_02_T2</td>\n",
       "      <td>77</td>\n",
       "      <td>231</td>\n",
       "      <td>8</td>\n",
       "      <td>12</td>\n",
       "      <td>2022-06-03</td>\n",
       "    </tr>\n",
       "    <tr>\n",
       "      <th>13</th>\n",
       "      <td>LC09_L1TP_076231_20220604_20230413_02_T1</td>\n",
       "      <td>76</td>\n",
       "      <td>231</td>\n",
       "      <td>9</td>\n",
       "      <td>15</td>\n",
       "      <td>2022-06-04</td>\n",
       "    </tr>\n",
       "    <tr>\n",
       "      <th>12</th>\n",
       "      <td>LC09_L1GT_001013_20220607_20230413_02_T2</td>\n",
       "      <td>1</td>\n",
       "      <td>13</td>\n",
       "      <td>9</td>\n",
       "      <td>2</td>\n",
       "      <td>2022-06-07</td>\n",
       "    </tr>\n",
       "    <tr>\n",
       "      <th>11</th>\n",
       "      <td>LC08_L1TP_233014_20220608_20220616_02_T1</td>\n",
       "      <td>233</td>\n",
       "      <td>14</td>\n",
       "      <td>8</td>\n",
       "      <td>5</td>\n",
       "      <td>2022-06-08</td>\n",
       "    </tr>\n",
       "    <tr>\n",
       "      <th>10</th>\n",
       "      <td>LC08_L1TP_233013_20220608_20220616_02_T1</td>\n",
       "      <td>233</td>\n",
       "      <td>13</td>\n",
       "      <td>8</td>\n",
       "      <td>0</td>\n",
       "      <td>2022-06-08</td>\n",
       "    </tr>\n",
       "    <tr>\n",
       "      <th>9</th>\n",
       "      <td>LC09_L1TP_232013_20220609_20230413_02_T1</td>\n",
       "      <td>232</td>\n",
       "      <td>13</td>\n",
       "      <td>9</td>\n",
       "      <td>0</td>\n",
       "      <td>2022-06-09</td>\n",
       "    </tr>\n",
       "    <tr>\n",
       "      <th>8</th>\n",
       "      <td>LC09_L1TP_079230_20220609_20230413_02_T1</td>\n",
       "      <td>79</td>\n",
       "      <td>230</td>\n",
       "      <td>9</td>\n",
       "      <td>6</td>\n",
       "      <td>2022-06-09</td>\n",
       "    </tr>\n",
       "    <tr>\n",
       "      <th>7</th>\n",
       "      <td>LC08_L1TP_231014_20220610_20220616_02_T1</td>\n",
       "      <td>231</td>\n",
       "      <td>14</td>\n",
       "      <td>8</td>\n",
       "      <td>1</td>\n",
       "      <td>2022-06-10</td>\n",
       "    </tr>\n",
       "    <tr>\n",
       "      <th>6</th>\n",
       "      <td>LC08_L1TP_231013_20220610_20220616_02_T1</td>\n",
       "      <td>231</td>\n",
       "      <td>13</td>\n",
       "      <td>8</td>\n",
       "      <td>0</td>\n",
       "      <td>2022-06-10</td>\n",
       "    </tr>\n",
       "    <tr>\n",
       "      <th>5</th>\n",
       "      <td>LC08_L1GT_078231_20220610_20220616_02_T2</td>\n",
       "      <td>78</td>\n",
       "      <td>231</td>\n",
       "      <td>8</td>\n",
       "      <td>5</td>\n",
       "      <td>2022-06-10</td>\n",
       "    </tr>\n",
       "    <tr>\n",
       "      <th>4</th>\n",
       "      <td>LC08_L1TP_078230_20220610_20220616_02_T2</td>\n",
       "      <td>78</td>\n",
       "      <td>230</td>\n",
       "      <td>8</td>\n",
       "      <td>6</td>\n",
       "      <td>2022-06-10</td>\n",
       "    </tr>\n",
       "    <tr>\n",
       "      <th>3</th>\n",
       "      <td>LC09_L1TP_077230_20220611_20230413_02_T2</td>\n",
       "      <td>77</td>\n",
       "      <td>230</td>\n",
       "      <td>9</td>\n",
       "      <td>6</td>\n",
       "      <td>2022-06-11</td>\n",
       "    </tr>\n",
       "    <tr>\n",
       "      <th>2</th>\n",
       "      <td>LC08_L1TP_232014_20220617_20220629_02_T1</td>\n",
       "      <td>232</td>\n",
       "      <td>14</td>\n",
       "      <td>8</td>\n",
       "      <td>9</td>\n",
       "      <td>2022-06-17</td>\n",
       "    </tr>\n",
       "    <tr>\n",
       "      <th>1</th>\n",
       "      <td>LC08_L1TP_232013_20220617_20220629_02_T1</td>\n",
       "      <td>232</td>\n",
       "      <td>13</td>\n",
       "      <td>8</td>\n",
       "      <td>4</td>\n",
       "      <td>2022-06-17</td>\n",
       "    </tr>\n",
       "    <tr>\n",
       "      <th>0</th>\n",
       "      <td>LC08_L1TP_077230_20220619_20220630_02_T2</td>\n",
       "      <td>77</td>\n",
       "      <td>230</td>\n",
       "      <td>8</td>\n",
       "      <td>11</td>\n",
       "      <td>2022-06-19</td>\n",
       "    </tr>\n",
       "  </tbody>\n",
       "</table>\n",
       "</div>"
      ],
      "text/plain": [
       "                                  display_id  wrs_path  wrs_row  satellite  \\\n",
       "30  LC09_L1GT_001013_20220420_20230421_02_T2         1       13          9   \n",
       "28  LC08_L1TP_231013_20220423_20220428_02_T1       231       13          8   \n",
       "29  LC08_L1TP_231014_20220423_20220428_02_T1       231       14          8   \n",
       "27  LC09_L1TP_233013_20220429_20230418_02_T1       233       13          9   \n",
       "26  LC08_L1TP_232014_20220430_20220504_02_T1       232       14          8   \n",
       "25  LC08_L1TP_232013_20220430_20220504_02_T1       232       13          8   \n",
       "24  LC09_L1TP_231013_20220501_20230418_02_T1       231       13          9   \n",
       "23  LC09_L1GT_001013_20220506_20230417_02_T2         1       13          9   \n",
       "22  LC08_L1TP_233014_20220507_20220512_02_T1       233       14          8   \n",
       "21  LC08_L1TP_233013_20220507_20220512_02_T1       233       13          8   \n",
       "20  LC09_L1TP_232014_20220508_20230417_02_T1       232       14          9   \n",
       "19  LC09_L1TP_232013_20220508_20230417_02_T1       232       13          9   \n",
       "18  LC08_L1TP_231013_20220509_20220518_02_T1       231       13          8   \n",
       "17  LC08_L1GT_001013_20220514_20220519_02_T2         1       13          8   \n",
       "16  LC08_L1GT_001013_20220530_20220609_02_T2         1       13          8   \n",
       "15  LC09_L1GT_078231_20220602_20230414_02_T2        78      231          9   \n",
       "14  LC08_L1GT_077231_20220603_20220609_02_T2        77      231          8   \n",
       "13  LC09_L1TP_076231_20220604_20230413_02_T1        76      231          9   \n",
       "12  LC09_L1GT_001013_20220607_20230413_02_T2         1       13          9   \n",
       "11  LC08_L1TP_233014_20220608_20220616_02_T1       233       14          8   \n",
       "10  LC08_L1TP_233013_20220608_20220616_02_T1       233       13          8   \n",
       "9   LC09_L1TP_232013_20220609_20230413_02_T1       232       13          9   \n",
       "8   LC09_L1TP_079230_20220609_20230413_02_T1        79      230          9   \n",
       "7   LC08_L1TP_231014_20220610_20220616_02_T1       231       14          8   \n",
       "6   LC08_L1TP_231013_20220610_20220616_02_T1       231       13          8   \n",
       "5   LC08_L1GT_078231_20220610_20220616_02_T2        78      231          8   \n",
       "4   LC08_L1TP_078230_20220610_20220616_02_T2        78      230          8   \n",
       "3   LC09_L1TP_077230_20220611_20230413_02_T2        77      230          9   \n",
       "2   LC08_L1TP_232014_20220617_20220629_02_T1       232       14          8   \n",
       "1   LC08_L1TP_232013_20220617_20220629_02_T1       232       13          8   \n",
       "0   LC08_L1TP_077230_20220619_20220630_02_T2        77      230          8   \n",
       "\n",
       "    cloud_cover acquisition_date  \n",
       "30            1       2022-04-20  \n",
       "28            2       2022-04-23  \n",
       "29           17       2022-04-23  \n",
       "27            9       2022-04-29  \n",
       "26           16       2022-04-30  \n",
       "25           14       2022-04-30  \n",
       "24            2       2022-05-01  \n",
       "23            0       2022-05-06  \n",
       "22            0       2022-05-07  \n",
       "21            0       2022-05-07  \n",
       "20           20       2022-05-08  \n",
       "19            2       2022-05-08  \n",
       "18           17       2022-05-09  \n",
       "17            1       2022-05-14  \n",
       "16            1       2022-05-30  \n",
       "15            1       2022-06-02  \n",
       "14           12       2022-06-03  \n",
       "13           15       2022-06-04  \n",
       "12            2       2022-06-07  \n",
       "11            5       2022-06-08  \n",
       "10            0       2022-06-08  \n",
       "9             0       2022-06-09  \n",
       "8             6       2022-06-09  \n",
       "7             1       2022-06-10  \n",
       "6             0       2022-06-10  \n",
       "5             5       2022-06-10  \n",
       "4             6       2022-06-10  \n",
       "3             6       2022-06-11  \n",
       "2             9       2022-06-17  \n",
       "1             4       2022-06-17  \n",
       "0            11       2022-06-19  "
      ]
     },
     "execution_count": 110,
     "metadata": {},
     "output_type": "execute_result"
    }
   ],
   "source": [
    "# Create a DataFrame from the scenes\n",
    "df_scenes = pd.DataFrame(scenes)\n",
    "df_scenes = df_scenes[['display_id','wrs_path', 'wrs_row','satellite','cloud_cover','acquisition_date']]\n",
    "df_scenes.sort_values('acquisition_date', ascending=True, inplace=True)\n",
    "df_scenes['acquisition_date'] = pd.to_datetime(df_scenes['acquisition_date'])\n",
    "\n",
    "dates = []\n",
    "for scene in scenes:\n",
    "    dates.append(scene['acquisition_date'].strftime('%Y-%m-%d'))\n",
    "#     print(scene['acquisition_date'].strftime('%Y-%m-%d'))\n",
    "df_scenes\n",
    "\n",
    "\n"
   ]
  },
  {
   "cell_type": "code",
   "execution_count": 111,
   "id": "cbd672f5",
   "metadata": {},
   "outputs": [
    {
     "data": {
      "application/vnd.jupyter.widget-view+json": {
       "model_id": "2eff5ec0b98a4870a40be9f058111823",
       "version_major": 2,
       "version_minor": 0
      },
      "text/plain": [
       "VBox(children=(Checkbox(children=(HTML(value='<div data-toggle=\"popover\" title=\"2022-06-19\" data-container=\"bo…"
      ]
     },
     "metadata": {},
     "output_type": "display_data"
    }
   ],
   "source": [
    "choose_date = [ui.Checkbox(date, value=False, description=date) for date in dates]\n",
    "\n",
    "display_dates = widgets.VBox(choose_date)\n",
    "\n",
    "\n",
    "# # Display the checkboxes in a horizontal layout\n",
    "# landsat = widgets.VBox([check1, check2, check3,check4])\n",
    "\n",
    "display(display_dates)"
   ]
  },
  {
   "cell_type": "code",
   "execution_count": 112,
   "id": "80c33e67",
   "metadata": {},
   "outputs": [
    {
     "name": "stdout",
     "output_type": "stream",
     "text": [
      "2022-06-10\n",
      "5\n",
      "[5]\n"
     ]
    }
   ],
   "source": [
    "checkbox_dates = [child.value for child in display_dates.children]\n",
    "# print(checkbox_dates)\n",
    "# print(dates)\n",
    "\n",
    "selected_dates_index = []\n",
    "\n",
    "for index, date in enumerate(checkbox_dates):\n",
    "    if date == True:\n",
    "        chosen_date=dates[index]\n",
    "        chosen_date_index = index\n",
    "        selected_dates_index.append(index)\n",
    "        print(chosen_date)\n",
    "        print(chosen_date_index)\n",
    "\n",
    "print(selected_dates_index)\n"
   ]
  },
  {
   "cell_type": "code",
   "execution_count": 113,
   "id": "ff806f52",
   "metadata": {},
   "outputs": [],
   "source": [
    "# # Attach the function to the button click event\n",
    "# display_button.on_click(display_table)\n",
    "# # Attach the function to the button click event using a lambda function\n",
    "# # display_button.on_click(lambda _: display_table())\n"
   ]
  },
  {
   "cell_type": "code",
   "execution_count": 114,
   "id": "0373aa53",
   "metadata": {},
   "outputs": [],
   "source": [
    "# exe_button = widgets.Button(\n",
    "#     description = 'Run Analysis',\n",
    "#     disabled = False,\n",
    "#     button_style = 'success'\n",
    "# )\n",
    "# exe_button.on_click(execute)"
   ]
  },
  {
   "cell_type": "code",
   "execution_count": 115,
   "id": "666d17bf-217b-4a4e-b297-15c393186a82",
   "metadata": {},
   "outputs": [
    {
     "name": "stdout",
     "output_type": "stream",
     "text": [
      "LC08_L1TP_232013_20220430_20220504_02_T1 successfully downloaded.\n"
     ]
    }
   ],
   "source": [
    "from landsatxplore.earthexplorer import EarthExplorer\n",
    "import os\n",
    "import time\n",
    "import requests\n",
    "\n",
    "for index in selected_dates_index:\n",
    "# Initialize the API\n",
    "    api = EarthExplorer(username, password)\n",
    "\n",
    "    # Select the first scene\n",
    "    # Assuming the first scene ID is stored in the variable first_scene_id\n",
    "    ID = df_scenes['display_id'].iloc[index]\n",
    "\n",
    "\n",
    "    # Get the Earth Explorer website URL for the scene\n",
    "    api_scene_url = f'https://earthexplorer.usgs.gov/order/process?dataset_name=LANDSAT_8_C1&scene_id={ID}&node=INVSVC'\n",
    "\n",
    "\n",
    "    # Open the scene URL in a web browser for manual download\n",
    "    # print(f'You can manually download the scene from the following URL:')\n",
    "    # print(api_scene_url)\n",
    "\n",
    "    # Define the local file path\n",
    "    output_dir = './data'\n",
    "    local_file_path = os.path.join(output_dir, f'{ID}.tar')\n",
    "\n",
    "\n",
    "\n",
    "    # Download the scene using requests\n",
    "    try:\n",
    "        response = requests.get(api_scene_url)\n",
    "        if response.status_code == 200:\n",
    "            with open(local_file_path, 'wb') as f:\n",
    "                f.write(response.content)\n",
    "            print(f'{ID} successfully downloaded.')\n",
    "        else:\n",
    "            print(f'{ID} download failed. HTTP status code: {response.status_code}')\n",
    "    except Exception as e:\n",
    "        print(f'{ID} download failed. Error: {str(e)}')\n",
    "\n",
    "# api.logout()\n"
   ]
  },
  {
   "cell_type": "code",
   "execution_count": null,
   "id": "a552457a",
   "metadata": {},
   "outputs": [],
   "source": [
    "import tarfile\n",
    "\n",
    "ID = 'LC08_L2SP_010010_20221004_20221012_02_T1'\n",
    "file_path = './data/{}.tar'.format(ID)\n",
    "\n",
    "try:\n",
    "    tar = tarfile.open(file_path)\n",
    "    tar.extractall('./data/{}'.format(ID))\n",
    "    tar.close()\n",
    "    print('Extraction successful')\n",
    "except Exception as e:\n",
    "    print(f'Error: {e}')\n",
    "    \n",
    "#unzip twice \n"
   ]
  },
  {
   "cell_type": "code",
   "execution_count": null,
   "id": "1e9412bb-4b9d-445f-b6b9-65eb7f521a57",
   "metadata": {},
   "outputs": [],
   "source": [
    "# import tarfile\n",
    "\n",
    "# # Extract files from tar archive\n",
    "# tar = tarfile.open('./data/{}.tar'.format(ID))\n",
    "# tar.extractall('./data/{}'.format(ID))\n",
    "# tar.close()"
   ]
  },
  {
   "cell_type": "code",
   "execution_count": 75,
   "id": "73ecf691",
   "metadata": {},
   "outputs": [],
   "source": [
    "# # called when all files finish uploading\n",
    "# def done_cb(w, name):\n",
    "#     # Do something with the files here...\n",
    "#     # We just print their names\n",
    "#     print(\"%s uploaded\" % name)\n",
    "    \n",
    "#     # reset clears and re-enables the widget for more uploads\n",
    "#     # You may want to do this somewhere else, depending on your GUI\n",
    "#     w.reset()"
   ]
  }
 ],
 "metadata": {
  "kernelspec": {
   "display_name": "Python 3 (ipykernel)",
   "language": "python",
   "name": "python3"
  },
  "language_info": {
   "codemirror_mode": {
    "name": "ipython",
    "version": 3
   },
   "file_extension": ".py",
   "mimetype": "text/x-python",
   "name": "python",
   "nbconvert_exporter": "python",
   "pygments_lexer": "ipython3",
   "version": "3.9.7"
  }
 },
 "nbformat": 4,
 "nbformat_minor": 5
}
